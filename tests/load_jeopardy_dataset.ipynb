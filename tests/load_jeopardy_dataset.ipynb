{
 "cells": [
  {
   "cell_type": "markdown",
   "metadata": {},
   "source": [
    "## Dependencies"
   ]
  },
  {
   "cell_type": "code",
   "execution_count": null,
   "metadata": {},
   "outputs": [],
   "source": [
    "!pip install --pre -I \"weaviate-client==4.*\""
   ]
  },
  {
   "cell_type": "code",
   "execution_count": null,
   "metadata": {},
   "outputs": [],
   "source": [
    "!pip install weaviate-demo-datasets"
   ]
  },
  {
   "cell_type": "markdown",
   "metadata": {},
   "source": [
    "## Connect to a local instance"
   ]
  },
  {
   "cell_type": "code",
   "execution_count": 7,
   "metadata": {},
   "outputs": [],
   "source": [
    "import weaviate, os, json\n",
    "import weaviate.classes as wvc\n",
    "\n",
    "client = weaviate.connect_to_local(\n",
    "    headers={\n",
    "        \"X-OpenAI-Api-Key\": os.environ['OPENAI_API_KEY']  # Replace with your inference API key\n",
    "    }\n",
    ")"
   ]
  },
  {
   "cell_type": "markdown",
   "metadata": {},
   "source": [
    "## Create the base collections"
   ]
  },
  {
   "cell_type": "code",
   "execution_count": 8,
   "metadata": {},
   "outputs": [
    {
     "data": {
      "text/plain": [
       "{'JeopardyCategory': _CollectionConfigSimple(name='JeopardyCategory', description='A Jeopardy! category', properties=[_Property(data_type=<DataType.TEXT: 'text'>, description=None, index_filterable=True, index_searchable=True, name='title', tokenization=<Tokenization.WORD: 'word'>)], vectorizer=<Vectorizer.NONE: 'none'>),\n",
       " 'JeopardyQuestion': _CollectionConfigSimple(name='JeopardyQuestion', description='A Jeopardy! question', properties=[_Property(data_type=<DataType.TEXT: 'text'>, description=None, index_filterable=True, index_searchable=True, name='question', tokenization=<Tokenization.WORD: 'word'>), _Property(data_type=<DataType.TEXT: 'text'>, description=None, index_filterable=True, index_searchable=True, name='answer', tokenization=<Tokenization.WORD: 'word'>), _Property(data_type=_ReferenceDataType(target_collection='JeopardyCategory'), description=None, index_filterable=True, index_searchable=False, name='hasCategory', tokenization=None)], vectorizer=<Vectorizer.NONE: 'none'>)}"
      ]
     },
     "execution_count": 8,
     "metadata": {},
     "output_type": "execute_result"
    }
   ],
   "source": [
    "if (client.collections.exists(\"JeopardyCategory\")):\n",
    "    client.collections.delete(\"JeopardyCategory\")\n",
    "\n",
    "if (client.collections.exists(\"JeopardyQuestion\")):\n",
    "    client.collections.delete(\"JeopardyQuestion\")\n",
    "\n",
    "client.collections.create(\n",
    "    name=\"JeopardyCategory\",\n",
    "    description=\"A Jeopardy! category\",\n",
    "    properties=[\n",
    "        wvc.Property(name=\"title\", data_type=wvc.DataType.TEXT),\n",
    "    ]\n",
    ")\n",
    "\n",
    "# CrossRefDefinition\n",
    "client.collections.create(\n",
    "    name=\"JeopardyQuestion\",\n",
    "    description=\"A Jeopardy! question\",\n",
    "    properties=[\n",
    "        wvc.Property(name=\"question\", data_type=wvc.DataType.TEXT),\n",
    "        wvc.Property(name=\"answer\", data_type=wvc.DataType.TEXT),\n",
    "        # highlight-start\n",
    "        wvc.ReferenceProperty(\n",
    "            name=\"hasCategory\",\n",
    "            target_collection=\"JeopardyCategory\"\n",
    "        )\n",
    "        # highlight-end\n",
    "    ]\n",
    ")\n",
    "\n",
    "client.collections.list_all()"
   ]
  },
  {
   "cell_type": "markdown",
   "metadata": {},
   "source": [
    "## Import data"
   ]
  },
  {
   "cell_type": "code",
   "execution_count": 9,
   "metadata": {},
   "outputs": [
    {
     "name": "stderr",
     "output_type": "stream",
     "text": [
      "1000it [00:05, 174.65it/s]\n"
     ]
    },
    {
     "data": {
      "text/plain": [
       "True"
      ]
     },
     "execution_count": 9,
     "metadata": {},
     "output_type": "execute_result"
    }
   ],
   "source": [
    "import weaviate_datasets\n",
    "dataset = weaviate_datasets.JeopardyQuestions1k()  # instantiate dataset\n",
    "\n",
    "old_client = weaviate.Client(\"http://localhost:8080\")\n",
    "dataset = weaviate_datasets.JeopardyQuestions1k()  # instantiate dataset\n",
    "dataset.upload_objects(old_client, 100)"
   ]
  },
  {
   "cell_type": "markdown",
   "metadata": {},
   "source": [
    "## Test example"
   ]
  },
  {
   "cell_type": "code",
   "execution_count": 10,
   "metadata": {},
   "outputs": [
    {
     "name": "stdout",
     "output_type": "stream",
     "text": [
      "{'points': 500.0, 'answer': 'George Rogers Clark', 'air_date': '1997-07-08T00:00:00Z', 'round': 'Jeopardy!', 'question': 'This soldier & frontiersman won important victories over the British in the Northwest Territory'}\n",
      "{'points': 400.0, 'air_date': '1993-07-09T00:00:00Z', 'answer': 'Anwar Sadat', 'question': 'On his 1977 visit to Jerusalem, this Egyptian president prayed at the al-Aqsa mosque', 'round': 'Double Jeopardy!'}\n",
      "{'points': 400.0, 'answer': 'San Francisco', 'air_date': '2008-11-10T00:00:00Z', 'round': 'Double Jeopardy!', 'question': \"This city's Cable Car Museum has one from fhe first company, the Clay Street Hill Railroad\"}\n",
      "{'points': 100.0, 'air_date': '1997-05-30T00:00:00Z', 'answer': 'Theodore Roosevelt', 'round': 'Jeopardy!', 'question': 'In 1912 this \"Bull Moose\" spoke for about 50 minutes with a would-be-assassin\\'s bullet lodged in his chest'}\n",
      "{'points': 200.0, 'air_date': '1996-09-04T00:00:00Z', 'answer': 'Baton Rouge', 'round': 'Jeopardy!', 'question': 'Louisiana State University & Louisiana A&M were founded in this capital in 1860'}\n",
      "{'points': 500.0, 'air_date': '1996-12-19T00:00:00Z', 'answer': 'Indus', 'round': 'Jeopardy!', 'question': 'The ancient poets of India called this longest river of Pakistan \"King River\"'}\n",
      "{'points': 1600.0, 'answer': 'the mask', 'air_date': '2008-06-11T00:00:00Z', 'question': 'Newborn raccoons lack the familiar tail rings & this famous facial feature', 'round': 'Double Jeopardy!'}\n",
      "{'points': 0.0, 'air_date': '2006-11-24T00:00:00Z', 'answer': 'stereotype', 'question': 'Meaning to ascribe predetermined characteristics, this word comes from a printing process using metal plates', 'round': 'Final Jeopardy!'}\n",
      "{'points': 3000.0, 'air_date': '1999-05-21T00:00:00Z', 'answer': 'Pablo Picasso', 'question': 'This great 20th century Spanish artist painted \"The Blue Room\" during his Blue Period', 'round': 'Double Jeopardy!'}\n",
      "{'points': 600.0, 'answer': 'Michelin', 'air_date': '2007-09-26T00:00:00Z', 'round': 'Jeopardy!', 'question': \"Legend has it that the design of this company's Monsieur Bibendum logo was inspired by a pile of rubber tires\"}\n"
     ]
    }
   ],
   "source": [
    "jeopardy = client.collections.get(\"JeopardyQuestion\")\n",
    "result = jeopardy.query.fetch_objects(limit=10)\n",
    "\n",
    "# print result properties \n",
    "for o in result.objects:\n",
    "    print(o.properties)"
   ]
  }
 ],
 "metadata": {
  "kernelspec": {
   "display_name": "Python 3",
   "language": "python",
   "name": "python3"
  },
  "language_info": {
   "codemirror_mode": {
    "name": "ipython",
    "version": 3
   },
   "file_extension": ".py",
   "mimetype": "text/x-python",
   "name": "python",
   "nbconvert_exporter": "python",
   "pygments_lexer": "ipython3",
   "version": "3.11.5"
  }
 },
 "nbformat": 4,
 "nbformat_minor": 2
}
