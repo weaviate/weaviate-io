{
 "cells": [
  {
   "cell_type": "code",
   "execution_count": 1,
   "metadata": {},
   "outputs": [
    {
     "name": "stdout",
     "output_type": "stream",
     "text": [
      "Collecting weaviate-client==4.*\n",
      "  Downloading weaviate_client-4.2b2-py3-none-any.whl.metadata (3.3 kB)\n",
      "Collecting requests<3.0.0,>=2.30.0 (from weaviate-client==4.*)\n",
      "  Using cached requests-2.31.0-py3-none-any.whl.metadata (4.6 kB)\n",
      "Collecting validators<1.0.0,>=0.21.2 (from weaviate-client==4.*)\n",
      "  Using cached validators-0.22.0-py3-none-any.whl.metadata (4.7 kB)\n",
      "Collecting authlib<2.0.0,>=1.2.1 (from weaviate-client==4.*)\n",
      "  Using cached Authlib-1.2.1-py2.py3-none-any.whl.metadata (3.8 kB)\n",
      "Collecting pydantic<3.0.0,>=2.1.1 (from weaviate-client==4.*)\n",
      "  Using cached pydantic-2.5.0-py3-none-any.whl.metadata (174 kB)\n",
      "Collecting grpcio<2.0.0,>=1.57.0 (from weaviate-client==4.*)\n",
      "  Using cached grpcio-1.59.2-cp310-cp310-macosx_12_0_universal2.whl.metadata (4.0 kB)\n",
      "Collecting grpcio-tools<2.0.0,>=1.57.0 (from weaviate-client==4.*)\n",
      "  Using cached grpcio_tools-1.59.2-cp310-cp310-macosx_12_0_universal2.whl.metadata (6.2 kB)\n",
      "Collecting cryptography>=3.2 (from authlib<2.0.0,>=1.2.1->weaviate-client==4.*)\n",
      "  Using cached cryptography-41.0.5-cp37-abi3-macosx_10_12_universal2.whl.metadata (5.2 kB)\n",
      "Collecting protobuf<5.0dev,>=4.21.6 (from grpcio-tools<2.0.0,>=1.57.0->weaviate-client==4.*)\n",
      "  Using cached protobuf-4.25.0-cp37-abi3-macosx_10_9_universal2.whl.metadata (541 bytes)\n",
      "Collecting setuptools (from grpcio-tools<2.0.0,>=1.57.0->weaviate-client==4.*)\n",
      "  Using cached setuptools-68.2.2-py3-none-any.whl.metadata (6.3 kB)\n",
      "Collecting annotated-types>=0.4.0 (from pydantic<3.0.0,>=2.1.1->weaviate-client==4.*)\n",
      "  Using cached annotated_types-0.6.0-py3-none-any.whl.metadata (12 kB)\n",
      "Collecting pydantic-core==2.14.1 (from pydantic<3.0.0,>=2.1.1->weaviate-client==4.*)\n",
      "  Using cached pydantic_core-2.14.1-cp310-cp310-macosx_11_0_arm64.whl.metadata (6.5 kB)\n",
      "Collecting typing-extensions>=4.6.1 (from pydantic<3.0.0,>=2.1.1->weaviate-client==4.*)\n",
      "  Using cached typing_extensions-4.8.0-py3-none-any.whl.metadata (3.0 kB)\n",
      "Collecting charset-normalizer<4,>=2 (from requests<3.0.0,>=2.30.0->weaviate-client==4.*)\n",
      "  Using cached charset_normalizer-3.3.2-cp310-cp310-macosx_11_0_arm64.whl.metadata (33 kB)\n",
      "Collecting idna<4,>=2.5 (from requests<3.0.0,>=2.30.0->weaviate-client==4.*)\n",
      "  Using cached idna-3.4-py3-none-any.whl (61 kB)\n",
      "Collecting urllib3<3,>=1.21.1 (from requests<3.0.0,>=2.30.0->weaviate-client==4.*)\n",
      "  Using cached urllib3-2.1.0-py3-none-any.whl.metadata (6.4 kB)\n",
      "Collecting certifi>=2017.4.17 (from requests<3.0.0,>=2.30.0->weaviate-client==4.*)\n",
      "  Using cached certifi-2023.7.22-py3-none-any.whl.metadata (2.2 kB)\n",
      "Collecting cffi>=1.12 (from cryptography>=3.2->authlib<2.0.0,>=1.2.1->weaviate-client==4.*)\n",
      "  Using cached cffi-1.16.0-cp310-cp310-macosx_11_0_arm64.whl.metadata (1.5 kB)\n",
      "Collecting pycparser (from cffi>=1.12->cryptography>=3.2->authlib<2.0.0,>=1.2.1->weaviate-client==4.*)\n",
      "  Using cached pycparser-2.21-py2.py3-none-any.whl (118 kB)\n",
      "Downloading weaviate_client-4.2b2-py3-none-any.whl (218 kB)\n",
      "\u001b[2K   \u001b[90m━━━━━━━━━━━━━━━━━━━━━━━━━━━━━━━━━━━━━━━━\u001b[0m \u001b[32m218.1/218.1 kB\u001b[0m \u001b[31m4.0 MB/s\u001b[0m eta \u001b[36m0:00:00\u001b[0ma \u001b[36m0:00:01\u001b[0m\n",
      "\u001b[?25hUsing cached Authlib-1.2.1-py2.py3-none-any.whl (215 kB)\n",
      "Using cached grpcio-1.59.2-cp310-cp310-macosx_12_0_universal2.whl (9.5 MB)\n",
      "Using cached grpcio_tools-1.59.2-cp310-cp310-macosx_12_0_universal2.whl (4.9 MB)\n",
      "Using cached pydantic-2.5.0-py3-none-any.whl (407 kB)\n",
      "Using cached pydantic_core-2.14.1-cp310-cp310-macosx_11_0_arm64.whl (1.7 MB)\n",
      "Using cached requests-2.31.0-py3-none-any.whl (62 kB)\n",
      "Using cached validators-0.22.0-py3-none-any.whl (26 kB)\n",
      "Using cached annotated_types-0.6.0-py3-none-any.whl (12 kB)\n",
      "Using cached certifi-2023.7.22-py3-none-any.whl (158 kB)\n",
      "Using cached charset_normalizer-3.3.2-cp310-cp310-macosx_11_0_arm64.whl (120 kB)\n",
      "Using cached cryptography-41.0.5-cp37-abi3-macosx_10_12_universal2.whl (5.4 MB)\n",
      "Using cached protobuf-4.25.0-cp37-abi3-macosx_10_9_universal2.whl (393 kB)\n",
      "Using cached typing_extensions-4.8.0-py3-none-any.whl (31 kB)\n",
      "Using cached urllib3-2.1.0-py3-none-any.whl (104 kB)\n",
      "Using cached setuptools-68.2.2-py3-none-any.whl (807 kB)\n",
      "Using cached cffi-1.16.0-cp310-cp310-macosx_11_0_arm64.whl (176 kB)\n",
      "Installing collected packages: validators, urllib3, typing-extensions, setuptools, pycparser, protobuf, idna, grpcio, charset-normalizer, certifi, annotated-types, requests, pydantic-core, grpcio-tools, cffi, pydantic, cryptography, authlib, weaviate-client\n",
      "Successfully installed annotated-types-0.6.0 authlib-1.2.0 certifi-2022.12.7 cffi-1.15.1 charset-normalizer-3.0.1 cryptography-39.0.0 grpcio-1.59.2 grpcio-tools-1.59.2 idna-3.4 protobuf-4.25.0 pycparser-2.21 pydantic-2.5.0 pydantic-core-2.14.1 requests-2.28.2 setuptools-65.5.0 typing-extensions-4.5.0 urllib3-1.26.14 validators-0.19.0 weaviate-client-3.23.2\n"
     ]
    }
   ],
   "source": [
    "# Install python client resources\n",
    "\n",
    "!pip3 install --pre -I \"weaviate-client==4.*\"\n"
   ]
  },
  {
   "cell_type": "code",
   "execution_count": 5,
   "metadata": {},
   "outputs": [
    {
     "data": {
      "text/plain": [
       "True"
      ]
     },
     "execution_count": 5,
     "metadata": {},
     "output_type": "execute_result"
    }
   ],
   "source": []
  },
  {
   "cell_type": "code",
   "execution_count": 1,
   "metadata": {},
   "outputs": [
    {
     "data": {
      "text/plain": [
       "True"
      ]
     },
     "execution_count": 1,
     "metadata": {},
     "output_type": "execute_result"
    }
   ],
   "source": [
    "# OLD CLIENT\n",
    "# OLD CLIENT\n",
    "# OLD CLIENT\n",
    "# OLD CLIENT\n",
    "\n",
    "import weaviate\n",
    "from weaviate import EmbeddedOptions\n",
    "import os\n",
    "\n",
    "client = weaviate.Client(\n",
    "    url = \"http://localhost:8080/\",  # Replace with your endpoint\n",
    "    additional_headers = {\n",
    "        \"X-OpenAI-Api-Key\": os.getenv(\"OPENAI_API_KEY\")# Replace with your inference API key\n",
    "    }\n",
    ")\n",
    "\n",
    "client.is_ready()"
   ]
  },
  {
   "cell_type": "code",
   "execution_count": 3,
   "metadata": {},
   "outputs": [
    {
     "ename": "UnexpectedStatusCodeException",
     "evalue": "Create class! Unexpected status code: 422, with response body: {'error': [{'message': 'class name \"Question\" already exists'}]}.",
     "output_type": "error",
     "traceback": [
      "\u001b[0;31m---------------------------------------------------------------------------\u001b[0m",
      "\u001b[0;31mUnexpectedStatusCodeException\u001b[0m             Traceback (most recent call last)",
      "\u001b[1;32m/Users/davecuthbert/src/weaviate-io/.venv/pq-compression.ipynb Cell 4\u001b[0m line \u001b[0;36m2\n\u001b[1;32m      <a href='vscode-notebook-cell:/Users/davecuthbert/src/weaviate-io/.venv/pq-compression.ipynb#W3sZmlsZQ%3D%3D?line=0'>1</a>\u001b[0m \u001b[39m# class_definition = {\u001b[39;00m\n\u001b[1;32m      <a href='vscode-notebook-cell:/Users/davecuthbert/src/weaviate-io/.venv/pq-compression.ipynb#W3sZmlsZQ%3D%3D?line=1'>2</a>\u001b[0m     \n\u001b[1;32m      <a href='vscode-notebook-cell:/Users/davecuthbert/src/weaviate-io/.venv/pq-compression.ipynb#W3sZmlsZQ%3D%3D?line=2'>3</a>\u001b[0m \u001b[39m#     \"class\": \"Question\",\u001b[39;00m\n\u001b[0;32m   (...)\u001b[0m\n\u001b[1;32m     <a href='vscode-notebook-cell:/Users/davecuthbert/src/weaviate-io/.venv/pq-compression.ipynb#W3sZmlsZQ%3D%3D?line=21'>22</a>\u001b[0m \u001b[39m#     ]\u001b[39;00m\n\u001b[1;32m     <a href='vscode-notebook-cell:/Users/davecuthbert/src/weaviate-io/.venv/pq-compression.ipynb#W3sZmlsZQ%3D%3D?line=22'>23</a>\u001b[0m \u001b[39m# }\u001b[39;00m\n\u001b[0;32m---> <a href='vscode-notebook-cell:/Users/davecuthbert/src/weaviate-io/.venv/pq-compression.ipynb#W3sZmlsZQ%3D%3D?line=24'>25</a>\u001b[0m client\u001b[39m.\u001b[39;49mschema\u001b[39m.\u001b[39;49mcreate_class(class_definition)\n",
      "File \u001b[0;32m~/src/weaviate-io/.venv/lib/python3.10/site-packages/weaviate/schema/crud_schema.py:252\u001b[0m, in \u001b[0;36mSchema.create_class\u001b[0;34m(self, schema_class)\u001b[0m\n\u001b[1;32m    204\u001b[0m \u001b[39m\u001b[39m\u001b[39m\"\"\"\u001b[39;00m\n\u001b[1;32m    205\u001b[0m \u001b[39mCreate a single class as part of the schema in Weaviate.\u001b[39;00m\n\u001b[1;32m    206\u001b[0m \n\u001b[0;32m   (...)\u001b[0m\n\u001b[1;32m    248\u001b[0m \u001b[39m    If the 'schema_class' could not be validated against the standard format.\u001b[39;00m\n\u001b[1;32m    249\u001b[0m \u001b[39m\"\"\"\u001b[39;00m\n\u001b[1;32m    251\u001b[0m loaded_schema_class \u001b[39m=\u001b[39m _get_dict_from_object(schema_class)\n\u001b[0;32m--> 252\u001b[0m \u001b[39mself\u001b[39;49m\u001b[39m.\u001b[39;49m_create_class_with_primitives(loaded_schema_class)\n\u001b[1;32m    253\u001b[0m \u001b[39mself\u001b[39m\u001b[39m.\u001b[39m_create_complex_properties_from_class(loaded_schema_class)\n",
      "File \u001b[0;32m~/src/weaviate-io/.venv/lib/python3.10/site-packages/weaviate/schema/crud_schema.py:816\u001b[0m, in \u001b[0;36mSchema._create_class_with_primitives\u001b[0;34m(self, weaviate_class)\u001b[0m\n\u001b[1;32m    814\u001b[0m     \u001b[39mraise\u001b[39;00m RequestsConnectionError(\u001b[39m\"\u001b[39m\u001b[39mClass may not have been created properly.\u001b[39m\u001b[39m\"\u001b[39m) \u001b[39mfrom\u001b[39;00m \u001b[39mconn_err\u001b[39;00m\n\u001b[1;32m    815\u001b[0m \u001b[39mif\u001b[39;00m response\u001b[39m.\u001b[39mstatus_code \u001b[39m!=\u001b[39m \u001b[39m200\u001b[39m:\n\u001b[0;32m--> 816\u001b[0m     \u001b[39mraise\u001b[39;00m UnexpectedStatusCodeException(\u001b[39m\"\u001b[39m\u001b[39mCreate class\u001b[39m\u001b[39m\"\u001b[39m, response)\n",
      "\u001b[0;31mUnexpectedStatusCodeException\u001b[0m: Create class! Unexpected status code: 422, with response body: {'error': [{'message': 'class name \"Question\" already exists'}]}."
     ]
    }
   ],
   "source": [
    "# OLD CLIENT\n",
    "\n",
    "class_definition = {\n",
    "    \n",
    "    \"class\": \"Question\",\n",
    "    \"vectorizer\":\"text2vec-openai\",\n",
    "    \"vectorIndexConfig\": {\n",
    "        \"distance\" : \"cosine\"\n",
    "    },\n",
    "    \n",
    "    'properties' : [\n",
    "        {\n",
    "            'name' : \"question\",\n",
    "            \"dataType\" : ['text']\n",
    "        },\n",
    "        {\n",
    "            'name' : \"answer\",\n",
    "            \"dataType\" : [\"text\"]\n",
    "        },\n",
    "        {\n",
    "            'name' : 'round',\n",
    "            'dataType': ['text']\n",
    "        }\n",
    "    ]\n",
    "}\n",
    "\n",
    "client.schema.create_class(class_definition)"
   ]
  },
  {
   "cell_type": "code",
   "execution_count": 6,
   "metadata": {},
   "outputs": [
    {
     "name": "stdout",
     "output_type": "stream",
     "text": [
      "<class 'list'> 1000\n",
      "{\n",
      "  \"Air Date\": \"2005-11-18\",\n",
      "  \"Round\": \"Jeopardy!\",\n",
      "  \"Value\": 200,\n",
      "  \"Category\": \"RHYME TIME\",\n",
      "  \"Question\": \"Any pigment on the wall so faded you can barely see it\",\n",
      "  \"Answer\": \"faint paint\"\n",
      "}\n"
     ]
    }
   ],
   "source": [
    "# BOTH\n",
    "\n",
    "import requests\n",
    "import json\n",
    "\n",
    "# Download the data\n",
    "resp = requests.get('https://raw.githubusercontent.com/weaviate-tutorials/intro-workshop/main/data/jeopardy_1k.json')\n",
    "\n",
    "# Load the data so you can see what it is\n",
    "data = json.loads(resp.text)\n",
    "\n",
    "# Parse the JSON and preview it\n",
    "print(type(data), len(data))\n",
    "print(json.dumps(data[1], indent=2))"
   ]
  },
  {
   "cell_type": "code",
   "execution_count": 7,
   "metadata": {},
   "outputs": [
    {
     "name": "stderr",
     "output_type": "stream",
     "text": [
      "/Users/davecuthbert/src/weaviate-io/.venv/lib/python3.10/site-packages/weaviate/warnings.py:131: DeprecationWarning: Dep006: You are using the `client.batch()` method, which will be removed in the next major release.\n",
      "            Please instead use the `client.batch.configure()` method to configure your batch and `client.batch` to enter the context manager.\n",
      "            See https://weaviate.io/developers/weaviate/client-libraries/python for details.\n",
      "  warnings.warn(\n"
     ]
    }
   ],
   "source": [
    "# OLD CLIENT\n",
    "\n",
    "\n",
    "with client.batch() as batch:\n",
    "    for o in data:\n",
    "        obj_body = {\n",
    "            'question':o[\"Question\"],\n",
    "            'answer':o[\"Answer\"],\n",
    "            'round':o[\"Round\"]\n",
    "        }\n",
    "        \n",
    "        batch.add_data_object(\n",
    "        data_object=obj_body,\n",
    "        class_name=\"Question\"\n",
    "        )\n"
   ]
  },
  {
   "cell_type": "code",
   "execution_count": 8,
   "metadata": {},
   "outputs": [
    {
     "name": "stdout",
     "output_type": "stream",
     "text": [
      "{\n",
      "  \"data\": {\n",
      "    \"Aggregate\": {\n",
      "      \"Question\": [\n",
      "        {\n",
      "          \"meta\": {\n",
      "            \"count\": 2000\n",
      "          }\n",
      "        }\n",
      "      ]\n",
      "    }\n",
      "  }\n",
      "}\n"
     ]
    }
   ],
   "source": [
    "# OLD CLIENT\n",
    "\n",
    "# Test upload\n",
    "\n",
    "print(json.dumps(client.query.aggregate(\"Question\").with_meta_count().do(), indent=2))\n",
    "\n"
   ]
  },
  {
   "cell_type": "code",
   "execution_count": 9,
   "metadata": {},
   "outputs": [],
   "source": [
    "# OLD CLIENT\n",
    "\n",
    "client.schema.update_config(\n",
    "   \"Question\", {\n",
    "      \"vectorIndexConfig\": {\n",
    "         # highlight-start\n",
    "         \"pq\": {\n",
    "            \"enabled\": True,         # Enable PQ \n",
    "            \"trainingLimit\": 100000, \n",
    "            \"segments\": 96 \n",
    "         # highlight-end\n",
    "         }\n",
    "      }\n",
    "   }\n",
    ")"
   ]
  },
  {
   "cell_type": "code",
   "execution_count": 10,
   "metadata": {},
   "outputs": [
    {
     "data": {
      "text/plain": [
       "{'classes': [{'class': 'Question',\n",
       "   'invertedIndexConfig': {'bm25': {'b': 0.75, 'k1': 1.2},\n",
       "    'cleanupIntervalSeconds': 60,\n",
       "    'stopwords': {'additions': None, 'preset': 'en', 'removals': None}},\n",
       "   'moduleConfig': {'text2vec-openai': {'baseURL': 'https://api.openai.com',\n",
       "     'model': 'ada',\n",
       "     'modelVersion': '002',\n",
       "     'type': 'text',\n",
       "     'vectorizeClassName': True}},\n",
       "   'multiTenancyConfig': {'enabled': False},\n",
       "   'properties': [{'dataType': ['text'],\n",
       "     'indexFilterable': True,\n",
       "     'indexSearchable': True,\n",
       "     'moduleConfig': {'text2vec-openai': {'skip': False,\n",
       "       'vectorizePropertyName': False}},\n",
       "     'name': 'question',\n",
       "     'tokenization': 'word'},\n",
       "    {'dataType': ['text'],\n",
       "     'indexFilterable': True,\n",
       "     'indexSearchable': True,\n",
       "     'moduleConfig': {'text2vec-openai': {'skip': False,\n",
       "       'vectorizePropertyName': False}},\n",
       "     'name': 'answer',\n",
       "     'tokenization': 'word'},\n",
       "    {'dataType': ['text'],\n",
       "     'indexFilterable': True,\n",
       "     'indexSearchable': True,\n",
       "     'moduleConfig': {'text2vec-openai': {'skip': False,\n",
       "       'vectorizePropertyName': False}},\n",
       "     'name': 'round',\n",
       "     'tokenization': 'word'}],\n",
       "   'replicationConfig': {'factor': 1},\n",
       "   'shardingConfig': {'virtualPerPhysical': 128,\n",
       "    'desiredCount': 1,\n",
       "    'actualCount': 1,\n",
       "    'desiredVirtualCount': 128,\n",
       "    'actualVirtualCount': 128,\n",
       "    'key': '_id',\n",
       "    'strategy': 'hash',\n",
       "    'function': 'murmur3'},\n",
       "   'vectorIndexConfig': {'skip': False,\n",
       "    'cleanupIntervalSeconds': 300,\n",
       "    'maxConnections': 64,\n",
       "    'efConstruction': 128,\n",
       "    'ef': -1,\n",
       "    'dynamicEfMin': 100,\n",
       "    'dynamicEfMax': 500,\n",
       "    'dynamicEfFactor': 8,\n",
       "    'vectorCacheMaxObjects': 1000000000000,\n",
       "    'flatSearchCutoff': 40000,\n",
       "    'distance': 'cosine',\n",
       "    'pq': {'enabled': True,\n",
       "     'bitCompression': False,\n",
       "     'segments': 96,\n",
       "     'centroids': 256,\n",
       "     'trainingLimit': 100000,\n",
       "     'encoder': {'type': 'kmeans', 'distribution': 'log-normal'}}},\n",
       "   'vectorIndexType': 'hnsw',\n",
       "   'vectorizer': 'text2vec-openai'}]}"
      ]
     },
     "execution_count": 10,
     "metadata": {},
     "output_type": "execute_result"
    }
   ],
   "source": [
    "# OLD CLIENT\n",
    "\n",
    "client.schema.get()"
   ]
  },
  {
   "cell_type": "code",
   "execution_count": 1,
   "metadata": {},
   "outputs": [
    {
     "data": {
      "text/plain": [
       "True"
      ]
     },
     "execution_count": 1,
     "metadata": {},
     "output_type": "execute_result"
    }
   ],
   "source": [
    "# NEW PY4 CLIENT\n",
    "# NEW PY4 CLIENT\n",
    "# NEW PY4 CLIENT\n",
    "# NEW PY4 CLIENT\n",
    "\n",
    "\n",
    "# Connect to instance \n",
    "\n",
    "import weaviate, os, json\n",
    "import weaviate.classes as wvc\n",
    "\n",
    "client = weaviate.connect_to_local(\n",
    "    headers={\n",
    "        \"X-OpenAI-Api-Key\": os.environ['OPENAI_API_KEY']  # Replace with your inference API key\n",
    "    }\n",
    ")\n",
    "\n",
    "client.is_ready()"
   ]
  },
  {
   "cell_type": "code",
   "execution_count": 3,
   "metadata": {},
   "outputs": [],
   "source": [
    " client.collections.delete(\"Question\")"
   ]
  },
  {
   "cell_type": "code",
   "execution_count": 4,
   "metadata": {},
   "outputs": [
    {
     "name": "stdout",
     "output_type": "stream",
     "text": [
      "<class 'list'> 1000\n",
      "{\n",
      "  \"Air Date\": \"2005-11-18\",\n",
      "  \"Round\": \"Jeopardy!\",\n",
      "  \"Value\": 200,\n",
      "  \"Category\": \"RHYME TIME\",\n",
      "  \"Question\": \"Any pigment on the wall so faded you can barely see it\",\n",
      "  \"Answer\": \"faint paint\"\n",
      "}\n"
     ]
    }
   ],
   "source": [
    "import requests\n",
    "import json\n",
    "\n",
    "# Download the data\n",
    "resp = requests.get('https://raw.githubusercontent.com/weaviate-tutorials/intro-workshop/main/data/jeopardy_1k.json')\n",
    "\n",
    "# Load the data so you can see what it is\n",
    "data = json.loads(resp.text)\n",
    "\n",
    "# Parse the JSON and preview it\n",
    "print(type(data), len(data))\n",
    "print(json.dumps(data[1], indent=2))"
   ]
  },
  {
   "cell_type": "code",
   "execution_count": 5,
   "metadata": {},
   "outputs": [
    {
     "data": {
      "text/plain": [
       "True"
      ]
     },
     "execution_count": 5,
     "metadata": {},
     "output_type": "execute_result"
    }
   ],
   "source": [
    "import weaviate, os, json\n",
    "import weaviate.classes as wvc\n",
    "\n",
    "client = weaviate.connect_to_local(\n",
    "    headers={\n",
    "        \"X-OpenAI-Api-Key\": os.environ['OPENAI_API_KEY']  # Replace with your inference API key\n",
    "    }\n",
    ")\n",
    "\n",
    "client.is_ready()"
   ]
  },
  {
   "cell_type": "code",
   "execution_count": 6,
   "metadata": {},
   "outputs": [
    {
     "data": {
      "text/plain": [
       "<weaviate.collections.collection.Collection at 0x107d526e0>"
      ]
     },
     "execution_count": 6,
     "metadata": {},
     "output_type": "execute_result"
    }
   ],
   "source": [
    "# Define collection\n",
    "\n",
    "client.collections.create(\n",
    "    name=\"JeopardyCategory\",\n",
    "    description=\"A Jeopardy! category\",\n",
    "    vectorizer_config=wvc.Configure.Vectorizer.text2vec_openai(),\n",
    "    generative_config=wvc.Configure.Generative.openai(),\n",
    "    properties=[\n",
    "        wvc.Property(name=\"title\", data_type=wvc.DataType.TEXT),\n",
    "    ]\n",
    ")"
   ]
  },
  {
   "cell_type": "code",
   "execution_count": 12,
   "metadata": {},
   "outputs": [
    {
     "name": "stdout",
     "output_type": "stream",
     "text": [
      "{'Air Date': '2006-11-08', 'Round': 'Double Jeopardy!', 'Value': 800, 'Category': 'AMERICAN HISTORY', 'Question': 'Abraham Lincoln died across the street from this theatre on April 15, 1865', 'Answer': \"Ford's Theatre (the Ford Theatre accepted)\"}\n"
     ]
    }
   ],
   "source": [
    "dataList = [ obj for obj in data]\n",
    "print(dataList[0])"
   ]
  },
  {
   "cell_type": "code",
   "execution_count": 27,
   "metadata": {},
   "outputs": [],
   "source": [
    "# Batch load data\n",
    "\n",
    "# with client.batch() as batch:\n",
    "#     for o in data:\n",
    "#         obj_body = {\n",
    "#             'question':o[\"Question\"],\n",
    "#             'answer':o[\"Answer\"],\n",
    "#             'round':o[\"Round\"]\n",
    "#         }\n",
    "        \n",
    "#         batch.add_data_object(\n",
    "#         data_object=obj_body,\n",
    "#         class_name=\"Question\"\n",
    "#         )\n",
    "\n",
    "# client.batch.configure\n",
    "\n",
    "def parseData():\n",
    "  objectList = []\n",
    "  for obj in data:\n",
    "     objectList.append( { \"question\": obj[\"Question\"], \"answer\": obj[\"Answer\"], \"round\": obj[\"Round\"] } )\n",
    "     \n",
    "  return(objectList)\n",
    "  \n",
    "jeopardy = client.collections.get(\"JeopardyCategory\")\n",
    "upload = jeopardy.data.insert_many( parseData() )\n",
    "\n",
    "#print(upload)\n"
   ]
  },
  {
   "cell_type": "code",
   "execution_count": 28,
   "metadata": {},
   "outputs": [
    {
     "name": "stdout",
     "output_type": "stream",
     "text": [
      "_QueryReturn(objects=[_Object(properties={'answer': 'food stores (supermarkets)', 'question': 'This type of retail store sells more shampoo & makeup than any other', 'round': 'Double Jeopardy!'}, metadata=_MetadataReturn(uuid=UUID('7f47c461-91f3-4f66-aab7-d6a1b28d03b1'), vector=None, creation_time_unix=1700010643827, last_update_time_unix=1700010643827, distance=None, certainty=None, score=2.761819362640381, explain_score=', BM25F_food_frequency:1, BM25F_food_propLength:3', is_consistent=False)), _Object(properties={'answer': 'pasta', 'question': 'Type of food that comes in shapes of bow ties, elbows & wagon wheels', 'round': 'Jeopardy!'}, metadata=_MetadataReturn(uuid=UUID('e48313fd-d979-442c-9413-540e6cebf6e1'), vector=None, creation_time_unix=1700010648216, last_update_time_unix=1700010648216, distance=None, certainty=None, score=1.3178938627243042, explain_score=', BM25F_food_frequency:1, BM25F_food_propLength:12', is_consistent=False)), _Object(properties={'answer': 'Black Forest ham', 'question': 'When smoked with juniper brush, this food is associated with the German town of Westphalia', 'round': 'Jeopardy!'}, metadata=_MetadataReturn(uuid=UUID('e27bb2c6-b171-437a-97cc-32f692d04ae2'), vector=None, creation_time_unix=1700010645674, last_update_time_unix=1700010645674, distance=None, certainty=None, score=1.1807165145874023, explain_score=', BM25F_food_frequency:1, BM25F_food_propLength:14', is_consistent=False))])\n"
     ]
    }
   ],
   "source": [
    "resp = jeopardy.query.bm25(query = 'food')\n",
    "\n",
    "print(resp)                    "
   ]
  },
  {
   "cell_type": "code",
   "execution_count": 29,
   "metadata": {},
   "outputs": [
    {
     "name": "stdout",
     "output_type": "stream",
     "text": [
      "1000\n"
     ]
    }
   ],
   "source": [
    "response = jeopardy.aggregate.over_all(total_count=True)\n",
    "\n",
    "print(response.total_count)"
   ]
  },
  {
   "cell_type": "code",
   "execution_count": 30,
   "metadata": {},
   "outputs": [
    {
     "name": "stdout",
     "output_type": "stream",
     "text": [
      "2000\n"
     ]
    }
   ],
   "source": [
    "def parseData():\n",
    "  objectList = []\n",
    "  for obj in data:\n",
    "     objectList.append( \n",
    "        {\n",
    "            \"question\": obj[\"Question\"], \n",
    "            \"answer\": obj[\"Answer\"], \n",
    "            \"round\": obj[\"Round\"] \n",
    "         }\n",
    "     )\n",
    "     \n",
    "  return(objectList)\n",
    "  \n",
    "jeopardy = client.collections.get(\"JeopardyCategory\")\n",
    "jeopardy.data.insert_many( parseData() )\n",
    "\n",
    "# Check upload\n",
    "response = jeopardy.aggregate.over_all(total_count=True)\n",
    "\n",
    "# Should equal number of objects uploaded\n",
    "print(response.total_count)\n"
   ]
  },
  {
   "cell_type": "code",
   "execution_count": 66,
   "metadata": {},
   "outputs": [],
   "source": [
    "# Update schema\n",
    "import weaviate.classes as wvc\n",
    "\n",
    "jeopardy = client.collections.get(\"JeopardyCategory\")\n",
    "jeopardy.config.update(\n",
    "   vector_index_config=wvc.Reconfigure.vector_index(\n",
    "      pq_enabled=True,\n",
    "      pq_segments=96,\n",
    "      pq_training_limit=100000\n",
    "   )\n",
    ")\n",
    "\n"
   ]
  },
  {
   "cell_type": "code",
   "execution_count": 32,
   "metadata": {},
   "outputs": [
    {
     "name": "stdout",
     "output_type": "stream",
     "text": [
      "2000\n"
     ]
    }
   ],
   "source": [
    "response = jeopardy.aggregate.over_all(total_count=True)\n",
    "\n",
    "# Should equal number of objects uploaded\n",
    "print(response.total_count)"
   ]
  },
  {
   "cell_type": "code",
   "execution_count": 79,
   "metadata": {},
   "outputs": [
    {
     "name": "stdout",
     "output_type": "stream",
     "text": [
      "Enabled: True\n",
      "Training: 100000\n",
      "Segments: 96\n",
      "Centroids: 256\n"
     ]
    }
   ],
   "source": [
    "# Get schema definitions\n",
    "\n",
    "jeopardy = client.collections.get( \"JeopardyCategory\" )\n",
    "config = jeopardy.config.get()\n",
    "pq_config = config.vector_index_config.pq\n",
    "\n",
    "# print some of the config properties\n",
    "print( f\"Enabled: { pq_config.enabled }\" )\n",
    "print( f\"Training: { pq_config.training_limit }\" )\n",
    "print( f\"Segments: { pq_config.segments }\" )\n",
    "print( f\"Centroids: { pq_config.centroids }\" )\n"
   ]
  },
  {
   "cell_type": "code",
   "execution_count": 77,
   "metadata": {},
   "outputs": [],
   "source": [
    "client = weaviate.connect_to_local(\n",
    "    port=8080,\n",
    "    grpc_port=50051,\n",
    "    headers={\n",
    "        \"X-OpenAI-Api-Key\": os.environ[ \"OPENAI_API_KEY\" ] # Replace with your inference API key\n",
    "    }\n",
    ")"
   ]
  },
  {
   "cell_type": "code",
   "execution_count": 70,
   "metadata": {},
   "outputs": [
    {
     "data": {
      "text/plain": [
       "True"
      ]
     },
     "execution_count": 70,
     "metadata": {},
     "output_type": "execute_result"
    }
   ],
   "source": [
    "### OLD CLIENT\n",
    "\n",
    "import weaviate\n",
    "from weaviate import EmbeddedOptions\n",
    "import os\n",
    "\n",
    "old_client = weaviate.Client(\n",
    "    url = \"http://localhost:8080/\",  # Replace with your endpoint\n",
    "    additional_headers = {\n",
    "        \"X-OpenAI-Api-Key\": os.getenv(\"OPENAI_API_KEY\")# Replace with your inference API key\n",
    "    }\n",
    ")\n",
    "\n",
    "old_client.is_ready()"
   ]
  },
  {
   "cell_type": "code",
   "execution_count": 74,
   "metadata": {},
   "outputs": [
    {
     "data": {
      "text/plain": [
       "{'classes': [{'class': 'JeopardyCategory',\n",
       "   'description': 'A Jeopardy! category',\n",
       "   'invertedIndexConfig': {'bm25': {'b': 0.75, 'k1': 1.2},\n",
       "    'cleanupIntervalSeconds': 60,\n",
       "    'stopwords': {'additions': None, 'preset': 'en', 'removals': None}},\n",
       "   'moduleConfig': {'generative-openai': {},\n",
       "    'text2vec-openai': {'baseURL': 'https://api.openai.com',\n",
       "     'model': 'ada',\n",
       "     'modelVersion': '002',\n",
       "     'type': 'text',\n",
       "     'vectorizeClassName': True}},\n",
       "   'multiTenancyConfig': {'enabled': False},\n",
       "   'properties': [{'dataType': ['text'],\n",
       "     'indexFilterable': True,\n",
       "     'indexSearchable': True,\n",
       "     'moduleConfig': {'text2vec-openai': {'skip': False,\n",
       "       'vectorizePropertyName': True}},\n",
       "     'name': 'title',\n",
       "     'tokenization': 'word'},\n",
       "    {'dataType': ['number'],\n",
       "     'description': \"This property was generated by Weaviate's auto-schema feature on Wed Nov 15 00:41:26 2023\",\n",
       "     'indexFilterable': True,\n",
       "     'indexSearchable': False,\n",
       "     'moduleConfig': {'text2vec-openai': {'skip': False,\n",
       "       'vectorizePropertyName': False}},\n",
       "     'name': 'value'},\n",
       "    {'dataType': ['text'],\n",
       "     'description': \"This property was generated by Weaviate's auto-schema feature on Wed Nov 15 00:41:26 2023\",\n",
       "     'indexFilterable': True,\n",
       "     'indexSearchable': True,\n",
       "     'moduleConfig': {'text2vec-openai': {'skip': False,\n",
       "       'vectorizePropertyName': False}},\n",
       "     'name': 'category',\n",
       "     'tokenization': 'word'},\n",
       "    {'dataType': ['text'],\n",
       "     'description': \"This property was generated by Weaviate's auto-schema feature on Wed Nov 15 00:41:26 2023\",\n",
       "     'indexFilterable': True,\n",
       "     'indexSearchable': True,\n",
       "     'moduleConfig': {'text2vec-openai': {'skip': False,\n",
       "       'vectorizePropertyName': False}},\n",
       "     'name': 'answer',\n",
       "     'tokenization': 'word'},\n",
       "    {'dataType': ['text'],\n",
       "     'description': \"This property was generated by Weaviate's auto-schema feature on Wed Nov 15 00:41:26 2023\",\n",
       "     'indexFilterable': True,\n",
       "     'indexSearchable': True,\n",
       "     'moduleConfig': {'text2vec-openai': {'skip': False,\n",
       "       'vectorizePropertyName': False}},\n",
       "     'name': 'question',\n",
       "     'tokenization': 'word'},\n",
       "    {'dataType': ['text'],\n",
       "     'description': \"This property was generated by Weaviate's auto-schema feature on Wed Nov 15 00:41:26 2023\",\n",
       "     'indexFilterable': True,\n",
       "     'indexSearchable': True,\n",
       "     'moduleConfig': {'text2vec-openai': {'skip': False,\n",
       "       'vectorizePropertyName': False}},\n",
       "     'name': 'round',\n",
       "     'tokenization': 'word'}],\n",
       "   'replicationConfig': {'factor': 1},\n",
       "   'shardingConfig': {'virtualPerPhysical': 128,\n",
       "    'desiredCount': 1,\n",
       "    'actualCount': 1,\n",
       "    'desiredVirtualCount': 128,\n",
       "    'actualVirtualCount': 128,\n",
       "    'key': '_id',\n",
       "    'strategy': 'hash',\n",
       "    'function': 'murmur3'},\n",
       "   'vectorIndexConfig': {'skip': False,\n",
       "    'cleanupIntervalSeconds': 300,\n",
       "    'maxConnections': 64,\n",
       "    'efConstruction': 128,\n",
       "    'ef': -1,\n",
       "    'dynamicEfMin': 100,\n",
       "    'dynamicEfMax': 500,\n",
       "    'dynamicEfFactor': 8,\n",
       "    'vectorCacheMaxObjects': 1000000000000,\n",
       "    'flatSearchCutoff': 40000,\n",
       "    'distance': 'cosine',\n",
       "    'pq': {'enabled': True,\n",
       "     'bitCompression': False,\n",
       "     'segments': 96,\n",
       "     'centroids': 256,\n",
       "     'trainingLimit': 100000,\n",
       "     'encoder': {'type': 'kmeans', 'distribution': 'log-normal'}}},\n",
       "   'vectorIndexType': 'hnsw',\n",
       "   'vectorizer': 'text2vec-openai'}]}"
      ]
     },
     "execution_count": 74,
     "metadata": {},
     "output_type": "execute_result"
    }
   ],
   "source": [
    "old_client.schema.get()"
   ]
  },
  {
   "cell_type": "code",
   "execution_count": null,
   "metadata": {},
   "outputs": [],
   "source": []
  }
 ],
 "metadata": {
  "kernelspec": {
   "display_name": ".venv",
   "language": "python",
   "name": "python3"
  },
  "language_info": {
   "codemirror_mode": {
    "name": "ipython",
    "version": 3
   },
   "file_extension": ".py",
   "mimetype": "text/x-python",
   "name": "python",
   "nbconvert_exporter": "python",
   "pygments_lexer": "ipython3",
   "version": "3.10.13"
  }
 },
 "nbformat": 4,
 "nbformat_minor": 2
}
