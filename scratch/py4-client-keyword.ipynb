{
 "cells": [
  {
   "cell_type": "code",
   "execution_count": 2,
   "metadata": {},
   "outputs": [
    {
     "name": "stdout",
     "output_type": "stream",
     "text": [
      "Collecting weaviate-client==4.*\n",
      "  Using cached weaviate_client-4.2b0-py3-none-any.whl.metadata (3.3 kB)\n",
      "Collecting requests<3.0.0,>=2.30.0 (from weaviate-client==4.*)\n",
      "  Using cached requests-2.31.0-py3-none-any.whl.metadata (4.6 kB)\n",
      "Collecting validators<1.0.0,>=0.21.2 (from weaviate-client==4.*)\n",
      "  Using cached validators-0.22.0-py3-none-any.whl.metadata (4.7 kB)\n",
      "Collecting authlib<2.0.0,>=1.2.1 (from weaviate-client==4.*)\n",
      "  Using cached Authlib-1.2.1-py2.py3-none-any.whl.metadata (3.8 kB)\n",
      "Collecting pydantic<3.0.0,>=2.1.1 (from weaviate-client==4.*)\n",
      "  Downloading pydantic-2.5.0-py3-none-any.whl.metadata (174 kB)\n",
      "\u001b[2K     \u001b[90m━━━━━━━━━━━━━━━━━━━━━━━━━━━━━━━━━━━━━━━\u001b[0m \u001b[32m174.6/174.6 kB\u001b[0m \u001b[31m3.5 MB/s\u001b[0m eta \u001b[36m0:00:00\u001b[0m00:01\u001b[0m\n",
      "\u001b[?25hCollecting grpcio<2.0.0,>=1.57.0 (from weaviate-client==4.*)\n",
      "  Using cached grpcio-1.59.2-cp310-cp310-macosx_12_0_universal2.whl.metadata (4.0 kB)\n",
      "Collecting grpcio-tools<2.0.0,>=1.57.0 (from weaviate-client==4.*)\n",
      "  Using cached grpcio_tools-1.59.2-cp310-cp310-macosx_12_0_universal2.whl.metadata (6.2 kB)\n",
      "Collecting cryptography>=3.2 (from authlib<2.0.0,>=1.2.1->weaviate-client==4.*)\n",
      "  Using cached cryptography-41.0.5-cp37-abi3-macosx_10_12_universal2.whl.metadata (5.2 kB)\n",
      "Collecting protobuf<5.0dev,>=4.21.6 (from grpcio-tools<2.0.0,>=1.57.0->weaviate-client==4.*)\n",
      "  Using cached protobuf-4.25.0-cp37-abi3-macosx_10_9_universal2.whl.metadata (541 bytes)\n",
      "Collecting setuptools (from grpcio-tools<2.0.0,>=1.57.0->weaviate-client==4.*)\n",
      "  Using cached setuptools-68.2.2-py3-none-any.whl.metadata (6.3 kB)\n",
      "Collecting annotated-types>=0.4.0 (from pydantic<3.0.0,>=2.1.1->weaviate-client==4.*)\n",
      "  Using cached annotated_types-0.6.0-py3-none-any.whl.metadata (12 kB)\n",
      "Collecting pydantic-core==2.14.1 (from pydantic<3.0.0,>=2.1.1->weaviate-client==4.*)\n",
      "  Using cached pydantic_core-2.14.1-cp310-cp310-macosx_11_0_arm64.whl.metadata (6.5 kB)\n",
      "Collecting typing-extensions>=4.6.1 (from pydantic<3.0.0,>=2.1.1->weaviate-client==4.*)\n",
      "  Using cached typing_extensions-4.8.0-py3-none-any.whl.metadata (3.0 kB)\n",
      "Collecting charset-normalizer<4,>=2 (from requests<3.0.0,>=2.30.0->weaviate-client==4.*)\n",
      "  Using cached charset_normalizer-3.3.2-cp310-cp310-macosx_11_0_arm64.whl.metadata (33 kB)\n",
      "Collecting idna<4,>=2.5 (from requests<3.0.0,>=2.30.0->weaviate-client==4.*)\n",
      "  Using cached idna-3.4-py3-none-any.whl (61 kB)\n",
      "Collecting urllib3<3,>=1.21.1 (from requests<3.0.0,>=2.30.0->weaviate-client==4.*)\n",
      "  Using cached urllib3-2.1.0-py3-none-any.whl.metadata (6.4 kB)\n",
      "Collecting certifi>=2017.4.17 (from requests<3.0.0,>=2.30.0->weaviate-client==4.*)\n",
      "  Using cached certifi-2023.7.22-py3-none-any.whl.metadata (2.2 kB)\n",
      "Collecting cffi>=1.12 (from cryptography>=3.2->authlib<2.0.0,>=1.2.1->weaviate-client==4.*)\n",
      "  Using cached cffi-1.16.0-cp310-cp310-macosx_11_0_arm64.whl.metadata (1.5 kB)\n",
      "Collecting pycparser (from cffi>=1.12->cryptography>=3.2->authlib<2.0.0,>=1.2.1->weaviate-client==4.*)\n",
      "  Using cached pycparser-2.21-py2.py3-none-any.whl (118 kB)\n",
      "Using cached weaviate_client-4.2b0-py3-none-any.whl (217 kB)\n",
      "Using cached Authlib-1.2.1-py2.py3-none-any.whl (215 kB)\n",
      "Using cached grpcio-1.59.2-cp310-cp310-macosx_12_0_universal2.whl (9.5 MB)\n",
      "Using cached grpcio_tools-1.59.2-cp310-cp310-macosx_12_0_universal2.whl (4.9 MB)\n",
      "Downloading pydantic-2.5.0-py3-none-any.whl (407 kB)\n",
      "\u001b[2K   \u001b[90m━━━━━━━━━━━━━━━━━━━━━━━━━━━━━━━━━━━━━━━━\u001b[0m \u001b[32m407.5/407.5 kB\u001b[0m \u001b[31m16.8 MB/s\u001b[0m eta \u001b[36m0:00:00\u001b[0m\n",
      "\u001b[?25hUsing cached pydantic_core-2.14.1-cp310-cp310-macosx_11_0_arm64.whl (1.7 MB)\n",
      "Using cached requests-2.31.0-py3-none-any.whl (62 kB)\n",
      "Using cached validators-0.22.0-py3-none-any.whl (26 kB)\n",
      "Using cached annotated_types-0.6.0-py3-none-any.whl (12 kB)\n",
      "Using cached certifi-2023.7.22-py3-none-any.whl (158 kB)\n",
      "Using cached charset_normalizer-3.3.2-cp310-cp310-macosx_11_0_arm64.whl (120 kB)\n",
      "Using cached cryptography-41.0.5-cp37-abi3-macosx_10_12_universal2.whl (5.4 MB)\n",
      "Using cached protobuf-4.25.0-cp37-abi3-macosx_10_9_universal2.whl (393 kB)\n",
      "Using cached typing_extensions-4.8.0-py3-none-any.whl (31 kB)\n",
      "Using cached urllib3-2.1.0-py3-none-any.whl (104 kB)\n",
      "Using cached setuptools-68.2.2-py3-none-any.whl (807 kB)\n",
      "Using cached cffi-1.16.0-cp310-cp310-macosx_11_0_arm64.whl (176 kB)\n",
      "Installing collected packages: validators, urllib3, typing-extensions, setuptools, pycparser, protobuf, idna, grpcio, charset-normalizer, certifi, annotated-types, requests, pydantic-core, grpcio-tools, cffi, pydantic, cryptography, authlib, weaviate-client\n",
      "Successfully installed annotated-types-0.6.0 authlib-1.2.0 certifi-2022.12.7 cffi-1.15.1 charset-normalizer-3.0.1 cryptography-39.0.0 grpcio-1.59.2 grpcio-tools-1.59.2 idna-3.4 protobuf-4.25.0 pycparser-2.21 pydantic-2.5.0 pydantic-core-2.14.1 requests-2.28.2 setuptools-65.5.0 typing-extensions-4.5.0 urllib3-1.26.14 validators-0.19.0 weaviate-client-3.23.2\n"
     ]
    }
   ],
   "source": [
    "# Install python client reources\n",
    "\n",
    "!pip3 install --pre -I \"weaviate-client==4.*\""
   ]
  },
  {
   "cell_type": "code",
   "execution_count": 3,
   "metadata": {},
   "outputs": [
    {
     "name": "stdout",
     "output_type": "stream",
     "text": [
      "Requirement already satisfied: weaviate-demo-datasets in ./lib/python3.10/site-packages (0.0.14)\n",
      "Requirement already satisfied: pandas in ./lib/python3.10/site-packages (from weaviate-demo-datasets) (2.0.0)\n",
      "Requirement already satisfied: numpy in ./lib/python3.10/site-packages (from weaviate-demo-datasets) (1.24.2)\n",
      "Requirement already satisfied: tqdm in ./lib/python3.10/site-packages (from weaviate-demo-datasets) (4.64.1)\n",
      "Requirement already satisfied: python-dateutil>=2.8.2 in ./lib/python3.10/site-packages (from pandas->weaviate-demo-datasets) (2.8.2)\n",
      "Requirement already satisfied: pytz>=2020.1 in ./lib/python3.10/site-packages (from pandas->weaviate-demo-datasets) (2023.3)\n",
      "Requirement already satisfied: tzdata>=2022.1 in ./lib/python3.10/site-packages (from pandas->weaviate-demo-datasets) (2023.3)\n",
      "Requirement already satisfied: six>=1.5 in ./lib/python3.10/site-packages (from python-dateutil>=2.8.2->pandas->weaviate-demo-datasets) (1.16.0)\n"
     ]
    }
   ],
   "source": [
    "# Gather resources\n",
    "\n",
    "!pip install weaviate-demo-datasets"
   ]
  },
  {
   "cell_type": "code",
   "execution_count": 4,
   "metadata": {},
   "outputs": [],
   "source": [
    "# Connect to instance\n",
    "\n",
    "import weaviate, os, json\n",
    "import weaviate.classes as wvc\n",
    "\n",
    "client = weaviate.connect_to_local(\n",
    "    headers={\n",
    "        \"X-OpenAI-Api-Key\": os.environ['OPENAI_API_KEY']  # Replace with your inference API key\n",
    "    }\n",
    ")"
   ]
  },
  {
   "cell_type": "code",
   "execution_count": 4,
   "metadata": {},
   "outputs": [
    {
     "data": {
      "text/plain": [
       "<weaviate.collections.collection.Collection at 0x106f83fa0>"
      ]
     },
     "execution_count": 4,
     "metadata": {},
     "output_type": "execute_result"
    }
   ],
   "source": [
    "# Define collections\n",
    "\n",
    "if (client.collections.exists(\"JeopardyCategory\")):\n",
    "    client.collections.delete(\"JeopardyCategory\")\n",
    "\n",
    "if (client.collections.exists(\"JeopardyQuestion\")):\n",
    "    client.collections.delete(\"JeopardyQuestion\")\n",
    "\n",
    "client.collections.create(\n",
    "    name=\"JeopardyCategory\",\n",
    "    description=\"A Jeopardy! category\",\n",
    "    vectorizer_config=wvc.Configure.Vectorizer.text2vec_openai(),\n",
    "    generative_config=wvc.Configure.Generative.openai(),\n",
    "    properties=[\n",
    "        wvc.Property(name=\"title\", data_type=wvc.DataType.TEXT),\n",
    "    ]\n",
    ")"
   ]
  },
  {
   "cell_type": "code",
   "execution_count": 5,
   "metadata": {},
   "outputs": [
    {
     "data": {
      "text/plain": [
       "{'JeopardyCategory': _CollectionConfigSimple(name='JeopardyCategory', description='A Jeopardy! category', properties=[_Property(data_type=<DataType.TEXT: 'text'>, description=None, index_filterable=True, index_searchable=True, name='title', tokenization=<Tokenization.WORD: 'word'>)], vectorizer=<Vectorizer.TEXT2VEC_OPENAI: 'text2vec-openai'>),\n",
       " 'JeopardyQuestion': _CollectionConfigSimple(name='JeopardyQuestion', description='A Jeopardy! question', properties=[_Property(data_type=<DataType.TEXT: 'text'>, description=None, index_filterable=True, index_searchable=True, name='question', tokenization=<Tokenization.WORD: 'word'>), _Property(data_type=<DataType.TEXT: 'text'>, description=None, index_filterable=True, index_searchable=True, name='answer', tokenization=<Tokenization.WORD: 'word'>), _Property(data_type=_ReferenceDataType(target_collection='JeopardyCategory'), description=None, index_filterable=True, index_searchable=False, name='hasCategory', tokenization=None)], vectorizer=<Vectorizer.TEXT2VEC_OPENAI: 'text2vec-openai'>)}"
      ]
     },
     "execution_count": 5,
     "metadata": {},
     "output_type": "execute_result"
    }
   ],
   "source": [
    "# CrossRef Definition\n",
    "\n",
    "client.collections.create(\n",
    "    name=\"JeopardyQuestion\",\n",
    "    description=\"A Jeopardy! question\",\n",
    "    vectorizer_config=wvc.Configure.Vectorizer.text2vec_openai(),\n",
    "    generative_config=wvc.Configure.Generative.openai(),\n",
    "    properties=[\n",
    "        wvc.Property(name=\"question\", data_type=wvc.DataType.TEXT),\n",
    "        wvc.Property(name=\"answer\", data_type=wvc.DataType.TEXT),\n",
    "        # highlight-start\n",
    "        wvc.ReferenceProperty(\n",
    "            name=\"hasCategory\",\n",
    "            target_collection=\"JeopardyCategory\"\n",
    "        )\n",
    "        # highlight-end\n",
    "    ]\n",
    ")\n",
    "\n",
    "client.collections.list_all()"
   ]
  },
  {
   "cell_type": "code",
   "execution_count": 6,
   "metadata": {},
   "outputs": [
    {
     "name": "stderr",
     "output_type": "stream",
     "text": [
      "/Users/davecuthbert/src/weaviate-io/.venv/lib/python3.10/site-packages/weaviate/warnings.py:131: DeprecationWarning: Dep006: You are using the `client.batch()` method, which will be removed in the next major release.\n",
      "            Please instead use the `client.batch.configure()` method to configure your batch and `client.batch` to enter the context manager.\n",
      "            See https://weaviate.io/developers/weaviate/client-libraries/python for details.\n",
      "  warnings.warn(\n",
      "10000it [00:27, 363.08it/s]\n"
     ]
    },
    {
     "data": {
      "text/plain": [
       "True"
      ]
     },
     "execution_count": 6,
     "metadata": {},
     "output_type": "execute_result"
    }
   ],
   "source": [
    "# Upload data. Uses old client (Not sure why)\n",
    "\n",
    "import weaviate_datasets\n",
    "dataset = weaviate_datasets.JeopardyQuestions1k()  # instantiate dataset\n",
    "\n",
    "old_client = weaviate.Client(\"http://localhost:8080\")\n",
    "dataset = weaviate_datasets.JeopardyQuestions10k()  # instantiate dataset\n",
    "dataset.upload_objects(old_client, 100)"
   ]
  },
  {
   "cell_type": "code",
   "execution_count": 5,
   "metadata": {},
   "outputs": [
    {
     "name": "stdout",
     "output_type": "stream",
     "text": [
      "{\n",
      "  \"points\": 100.0,\n",
      "  \"answer\": \"Jonah\",\n",
      "  \"air_date\": \"2001-01-10T00:00:00Z\",\n",
      "  \"question\": \"This prophet passed the time he spent inside a fish offering up prayers\",\n",
      "  \"round\": \"Jeopardy!\"\n",
      "}\n",
      "{\n",
      "  \"points\": 400.0,\n",
      "  \"air_date\": \"2004-10-18T00:00:00Z\",\n",
      "  \"answer\": \"lay eggs\",\n",
      "  \"round\": \"Jeopardy!\",\n",
      "  \"question\": \"Pythons are oviparous, meaning they do this\"\n",
      "}\n"
     ]
    }
   ],
   "source": [
    "# Test connection and upload\n",
    "\n",
    "jeopardy = client.collections.get(\"JeopardyQuestion\")\n",
    "response = jeopardy.query.fetch_objects(\n",
    "    limit=2\n",
    ")\n",
    "\n",
    "for o in response.objects:\n",
    "    print(json.dumps(o.properties, indent=2))"
   ]
  },
  {
   "cell_type": "code",
   "execution_count": 8,
   "metadata": {},
   "outputs": [
    {
     "name": "stdout",
     "output_type": "stream",
     "text": [
      "{\n",
      "  \"points\": 100.0,\n",
      "  \"air_date\": \"2001-01-10T00:00:00Z\",\n",
      "  \"answer\": \"Jonah\",\n",
      "  \"question\": \"This prophet passed the time he spent inside a fish offering up prayers\",\n",
      "  \"round\": \"Jeopardy!\"\n",
      "}\n"
     ]
    }
   ],
   "source": [
    "# Pretty print output\n",
    "\n",
    "response = jeopardy.query.fetch_objects( limit=1 )\n",
    "\n",
    "for o in response.objects:\n",
    "    print(json.dumps(o.properties, indent=2))\n",
    "    \n",
    "    "
   ]
  },
  {
   "cell_type": "code",
   "execution_count": 12,
   "metadata": {},
   "outputs": [
    {
     "name": "stdout",
     "output_type": "stream",
     "text": [
      "{\n",
      "  \"points\": 1000.0,\n",
      "  \"air_date\": \"1986-02-04T00:00:00Z\",\n",
      "  \"answer\": \"food stores (supermarkets)\",\n",
      "  \"round\": \"Double Jeopardy!\",\n",
      "  \"question\": \"This type of retail store sells more shampoo & makeup than any other\"\n",
      "}\n",
      "{\n",
      "  \"points\": 200.0,\n",
      "  \"air_date\": \"2000-10-04T00:00:00Z\",\n",
      "  \"answer\": \"cake\",\n",
      "  \"round\": \"Jeopardy!\",\n",
      "  \"question\": \"Devil's food & angel food are types of this dessert\"\n",
      "}\n",
      "{\n",
      "  \"points\": 800.0,\n",
      "  \"air_date\": \"2008-05-08T00:00:00Z\",\n",
      "  \"answer\": \"a closer grocer\",\n",
      "  \"question\": \"A nearer food merchant\",\n",
      "  \"round\": \"Jeopardy!\"\n",
      "}\n"
     ]
    }
   ],
   "source": [
    "# BM25BasicPython\n",
    "\n",
    "jeopardy = client.collections.get(\"JeopardyQuestion\")\n",
    "# highlight-start\n",
    "response = jeopardy.query.bm25(\n",
    "# highlight-end\n",
    "    query=\"food\",\n",
    "    limit=3\n",
    ")\n",
    "\n",
    "for o in response.objects:\n",
    "    print(json.dumps(o.properties, indent=2))"
   ]
  },
  {
   "cell_type": "code",
   "execution_count": 26,
   "metadata": {},
   "outputs": [
    {
     "name": "stdout",
     "output_type": "stream",
     "text": [
      "[_Object(properties={'points': 1000.0, 'air_date': '1986-02-04T00:00:00Z', 'answer': 'food stores (supermarkets)', 'question': 'This type of retail store sells more shampoo & makeup than any other', 'round': 'Double Jeopardy!'}, metadata=_MetadataReturn(uuid=UUID('d6e58390-4f1e-524c-898c-e8aea413022e'), vector=None, creation_time_unix=1699889287053, last_update_time_unix=1699889288305, distance=None, certainty=None, score=3.045816421508789, explain_score=', BM25F_food_frequency:1, BM25F_food_propLength:3', is_consistent=False)), _Object(properties={'points': 200.0, 'air_date': '2000-10-04T00:00:00Z', 'answer': 'cake', 'question': \"Devil's food & angel food are types of this dessert\", 'round': 'Jeopardy!'}, metadata=_MetadataReturn(uuid=UUID('8345ec8a-507f-5dbe-b817-f64e92492f61'), vector=None, creation_time_unix=1699889287050, last_update_time_unix=1699889288301, distance=None, certainty=None, score=2.9159791469573975, explain_score=', BM25F_food_frequency:2, BM25F_food_propLength:9', is_consistent=False)), _Object(properties={'points': 800.0, 'air_date': '2008-05-08T00:00:00Z', 'answer': 'a closer grocer', 'question': 'A nearer food merchant', 'round': 'Jeopardy!'}, metadata=_MetadataReturn(uuid=UUID('df958a90-c3ad-5fde-9122-cd777c22da6c'), vector=None, creation_time_unix=1699889271206, last_update_time_unix=1699889271683, distance=None, certainty=None, score=2.803023338317871, explain_score=', BM25F_food_frequency:1, BM25F_food_propLength:4', is_consistent=False))]\n",
      "{\n",
      "  \"points\": 1000.0,\n",
      "  \"air_date\": \"1986-02-04T00:00:00Z\",\n",
      "  \"answer\": \"food stores (supermarkets)\",\n",
      "  \"question\": \"This type of retail store sells more shampoo & makeup than any other\",\n",
      "  \"round\": \"Double Jeopardy!\"\n",
      "}\n",
      "3.045816421508789\n",
      "{\n",
      "  \"points\": 200.0,\n",
      "  \"air_date\": \"2000-10-04T00:00:00Z\",\n",
      "  \"answer\": \"cake\",\n",
      "  \"question\": \"Devil's food & angel food are types of this dessert\",\n",
      "  \"round\": \"Jeopardy!\"\n",
      "}\n",
      "2.9159791469573975\n",
      "{\n",
      "  \"points\": 800.0,\n",
      "  \"air_date\": \"2008-05-08T00:00:00Z\",\n",
      "  \"answer\": \"a closer grocer\",\n",
      "  \"question\": \"A nearer food merchant\",\n",
      "  \"round\": \"Jeopardy!\"\n",
      "}\n",
      "2.803023338317871\n"
     ]
    }
   ],
   "source": [
    "# BM25 Query with score / explainScore\n",
    " \n",
    "import weaviate.classes as wvc\n",
    "\n",
    "jeopardy = client.collections.get(\"JeopardyQuestion\")\n",
    "response = jeopardy.query.bm25(\n",
    "    query=\"food\",\n",
    "    limit=3\n",
    ")\n",
    "\n",
    "print(response.objects)\n",
    "\n",
    "for o in response.objects:\n",
    "    print(json.dumps(o.properties, indent=2))\n",
    "    # highlight-start\n",
    "    print(o.metadata.score)\n",
    "    # highlight-end"
   ]
  },
  {
   "cell_type": "code",
   "execution_count": 22,
   "metadata": {},
   "outputs": [
    {
     "name": "stdout",
     "output_type": "stream",
     "text": [
      "{\n",
      "  \"points\": 600.0,\n",
      "  \"air_date\": \"2008-09-29T00:00:00Z\",\n",
      "  \"answer\": \"OSHA (Occupational Safety and Health Administration)\",\n",
      "  \"round\": \"Jeopardy!\",\n",
      "  \"question\": \"The government admin. was created in 1971 to ensure occupational health & safety standards\"\n",
      "}\n",
      "{\n",
      "  \"points\": 800.0,\n",
      "  \"air_date\": \"1991-02-20T00:00:00Z\",\n",
      "  \"answer\": \"France\",\n",
      "  \"round\": \"Double Jeopardy!\",\n",
      "  \"question\": \"Royale, Joseph, and Devil's Islands make up the Safety Islands owned by this country\"\n",
      "}\n",
      "{\n",
      "  \"points\": 300.0,\n",
      "  \"air_date\": \"1998-01-07T00:00:00Z\",\n",
      "  \"answer\": \"Devil's Island\",\n",
      "  \"question\": \"The Safety Islands off French Guiana consist of Royale, Saint-Joseph & this diabolical island\",\n",
      "  \"round\": \"Jeopardy!\"\n",
      "}\n"
     ]
    }
   ],
   "source": [
    "# Limit\n",
    "\n",
    "jeopardy = client.collections.get(\"JeopardyQuestion\")\n",
    "response = jeopardy.query.bm25(\n",
    "    query=\"safety\",\n",
    "    # highlight-start\n",
    "    limit=3\n",
    "    # highlight-end\n",
    ")\n",
    "\n",
    "for o in response.objects:\n",
    "    print(json.dumps(o.properties, indent=2))"
   ]
  },
  {
   "cell_type": "code",
   "execution_count": 24,
   "metadata": {},
   "outputs": [
    {
     "name": "stdout",
     "output_type": "stream",
     "text": [
      "{\n",
      "  \"points\": 600.0,\n",
      "  \"answer\": \"OSHA (Occupational Safety and Health Administration)\",\n",
      "  \"air_date\": \"2008-09-29T00:00:00Z\",\n",
      "  \"question\": \"The government admin. was created in 1971 to ensure occupational health & safety standards\",\n",
      "  \"round\": \"Jeopardy!\"\n",
      "}\n"
     ]
    }
   ],
   "source": [
    "# Autocut\n",
    "\n",
    "jeopardy = client.collections.get(\"JeopardyQuestion\")\n",
    "response = jeopardy.query.bm25(\n",
    "    query=\"safety\",\n",
    "    # highlight-start\n",
    "    auto_limit=1\n",
    "    # highlight-end\n",
    ")\n",
    "\n",
    "for o in response.objects:\n",
    "    print(json.dumps(o.properties, indent=2))"
   ]
  },
  {
   "cell_type": "code",
   "execution_count": 28,
   "metadata": {},
   "outputs": [
    {
     "name": "stdout",
     "output_type": "stream",
     "text": [
      "{\n",
      "  \"points\": 600.0,\n",
      "  \"answer\": \"OSHA (Occupational Safety and Health Administration)\",\n",
      "  \"air_date\": \"2008-09-29T00:00:00Z\",\n",
      "  \"round\": \"Jeopardy!\",\n",
      "  \"question\": \"The government admin. was created in 1971 to ensure occupational health & safety standards\"\n",
      "}\n",
      "3.333716630935669\n",
      "{\n",
      "  \"points\": 800.0,\n",
      "  \"answer\": \"France\",\n",
      "  \"air_date\": \"1991-02-20T00:00:00Z\",\n",
      "  \"question\": \"Royale, Joseph, and Devil's Islands make up the Safety Islands owned by this country\",\n",
      "  \"round\": \"Double Jeopardy!\"\n",
      "}\n",
      "3.237332820892334\n",
      "{\n",
      "  \"points\": 300.0,\n",
      "  \"air_date\": \"1998-01-07T00:00:00Z\",\n",
      "  \"answer\": \"Devil's Island\",\n",
      "  \"question\": \"The Safety Islands off French Guiana consist of Royale, Saint-Joseph & this diabolical island\",\n",
      "  \"round\": \"Jeopardy!\"\n",
      "}\n",
      "3.237332820892334\n"
     ]
    }
   ],
   "source": [
    "# Query with properties\n",
    "\n",
    "jeopardy = client.collections.get(\"JeopardyQuestion\")\n",
    "response = jeopardy.query.bm25(\n",
    "    query=\"safety\",\n",
    "    # highlight-start\n",
    "    query_properties=[\"question\"],\n",
    "    # highlight-end\n",
    "    limit=3\n",
    ")\n",
    "\n",
    "for o in response.objects:\n",
    "    # highlight-start\n",
    "    print(json.dumps(o.properties, indent=2))\n",
    "    print(o.metadata.score)\n",
    "    # highlight-start"
   ]
  },
  {
   "cell_type": "code",
   "execution_count": 29,
   "metadata": {},
   "outputs": [
    {
     "name": "stdout",
     "output_type": "stream",
     "text": [
      "{\n",
      "  \"points\": 200.0,\n",
      "  \"air_date\": \"2000-10-04T00:00:00Z\",\n",
      "  \"answer\": \"cake\",\n",
      "  \"round\": \"Jeopardy!\",\n",
      "  \"question\": \"Devil's food & angel food are types of this dessert\"\n",
      "}\n",
      "4.037484645843506\n",
      "{\n",
      "  \"points\": 800.0,\n",
      "  \"answer\": \"a closer grocer\",\n",
      "  \"air_date\": \"2008-05-08T00:00:00Z\",\n",
      "  \"question\": \"A nearer food merchant\",\n",
      "  \"round\": \"Jeopardy!\"\n",
      "}\n",
      "3.8985471725463867\n",
      "{\n",
      "  \"points\": 1000.0,\n",
      "  \"air_date\": \"1986-02-04T00:00:00Z\",\n",
      "  \"answer\": \"food stores (supermarkets)\",\n",
      "  \"round\": \"Double Jeopardy!\",\n",
      "  \"question\": \"This type of retail store sells more shampoo & makeup than any other\"\n",
      "}\n",
      "3.275304079055786\n"
     ]
    }
   ],
   "source": [
    "# Weighted\n",
    "\n",
    "jeopardy = client.collections.get(\"JeopardyQuestion\")\n",
    "response = jeopardy.query.bm25(\n",
    "    query=\"food\",\n",
    "    # highlight-start\n",
    "    query_properties=[\"question^2\", \"answer\"],\n",
    "    # highlight-end\n",
    "    limit=3\n",
    ")\n",
    "\n",
    "for o in response.objects:\n",
    "    # highlight-start\n",
    "    print(json.dumps(o.properties, indent=2))\n",
    "    print(o.metadata.score)\n",
    "    # highlight-start"
   ]
  },
  {
   "cell_type": "code",
   "execution_count": 35,
   "metadata": {},
   "outputs": [
    {
     "name": "stdout",
     "output_type": "stream",
     "text": [
      "Wine, a ship, Croce's time\n",
      "Devil's food & angel food are types of this dessert\n",
      "Type of event in Cana at which Jesus turned water into wine\n",
      "A nearer food merchant\n",
      "Sparkling wine sold under the name Champagne must come from this region in Northeast France\n"
     ]
    }
   ],
   "source": [
    "jeopardy = client.collections.get(\"JeopardyQuestion\")\n",
    "response = jeopardy.query.bm25(\n",
    "    # highlight-start\n",
    "    query=\"food wine\", # search for food or wine\n",
    "    # highlight-end\n",
    "    query_properties=[\"question\"],\n",
    "    return_properties=[\"question\"], # only return question property\n",
    "    limit=5\n",
    ")\n",
    "\n",
    "for o in response.objects:\n",
    "    print(o.properties[\"question\"])\n"
   ]
  },
  {
   "cell_type": "code",
   "execution_count": 36,
   "metadata": {},
   "outputs": [
    {
     "name": "stdout",
     "output_type": "stream",
     "text": [
      "{\n",
      "  \"answer\": \"food stores (supermarkets)\",\n",
      "  \"round\": \"Double Jeopardy!\",\n",
      "  \"question\": \"This type of retail store sells more shampoo & makeup than any other\"\n",
      "}\n",
      "{\n",
      "  \"answer\": \"honey\",\n",
      "  \"round\": \"Double Jeopardy!\",\n",
      "  \"question\": \"The primary source of this food is the Apis mellifera\"\n",
      "}\n",
      "{\n",
      "  \"answer\": \"pseudopods\",\n",
      "  \"round\": \"Double Jeopardy!\",\n",
      "  \"question\": \"Amoebas use temporary extensions called these to move or to surround & engulf food\"\n",
      "}\n"
     ]
    }
   ],
   "source": [
    "import weaviate.classes as wvc\n",
    "\n",
    "jeopardy = client.collections.get(\"JeopardyQuestion\")\n",
    "response = jeopardy.query.bm25(\n",
    "    query=\"food\",\n",
    "    # highlight-start\n",
    "    filters=wvc.Filter(\"round\").equal(\"Double Jeopardy!\"),\n",
    "    # highlight-end\n",
    "    return_properties=[\"answer\", \"question\", \"round\"], # return these properties\n",
    "    limit=3\n",
    ")\n",
    "\n",
    "for o in response.objects:\n",
    "    print(json.dumps(o.properties, indent=2))"
   ]
  },
  {
   "cell_type": "code",
   "execution_count": null,
   "metadata": {},
   "outputs": [],
   "source": []
  }
 ],
 "metadata": {
  "kernelspec": {
   "display_name": ".venv",
   "language": "python",
   "name": "python3"
  },
  "language_info": {
   "codemirror_mode": {
    "name": "ipython",
    "version": 3
   },
   "file_extension": ".py",
   "mimetype": "text/x-python",
   "name": "python",
   "nbconvert_exporter": "python",
   "pygments_lexer": "ipython3",
   "version": "3.10.13"
  }
 },
 "nbformat": 4,
 "nbformat_minor": 2
}
