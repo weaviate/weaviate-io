{
 "cells": [
  {
   "cell_type": "markdown",
   "id": "6559ef2c",
   "metadata": {},
   "source": [
    "## Enabling Product Quantization(PQ) Vector Compression for your Class"
   ]
  },
  {
   "cell_type": "markdown",
   "id": "b08d8869",
   "metadata": {},
   "source": [
    "In order to compress vectors using PQ you need:\n",
    "\n",
    "**1.** Connect to a Weaviate instance and create a Schema\n",
    "\n",
    "**2.** Add datapoints to the class - it is recommended to add atleast 10k-100k objects to Weaviate before enabling PQ\n",
    "\n",
    "**3.** Enable PQ by updating the Schema configuration (This will take the datapoints and vectors already added to Weaviate and will train the PQ algorithm on them - learning centroids that can be used to compress current and any future added vectors):\n",
    "    \n",
    "    a. You can specify the `trainingLimit` which will allow you to dictate how many of the added vectors will be used to train the centroids. By default this will take upto the first 100k objects added to Weaviate\n",
    "    \n",
    "    b. You can specify the `segments` to use which will specify how many pieces to quantize the vectors into. This will dictate the compression rate."
   ]
  },
  {
   "cell_type": "code",
   "execution_count": 30,
   "id": "07a62d15",
   "metadata": {},
   "outputs": [
    {
     "name": "stdout",
     "output_type": "stream",
     "text": [
      "<class 'list'> 1000\n",
      "{\n",
      "  \"Air Date\": \"2005-11-18\",\n",
      "  \"Round\": \"Jeopardy!\",\n",
      "  \"Value\": 200,\n",
      "  \"Category\": \"RHYME TIME\",\n",
      "  \"Question\": \"Any pigment on the wall so faded you can barely see it\",\n",
      "  \"Answer\": \"faint paint\"\n",
      "}\n"
     ]
    }
   ],
   "source": [
    "import requests\n",
    "import json\n",
    "\n",
    "# Download the data\n",
    "resp = requests.get('https://raw.githubusercontent.com/weaviate-tutorials/intro-workshop/main/data/jeopardy_1k.json')\n",
    "data = json.loads(resp.text)  # Load data\n",
    "\n",
    "# Parse the JSON and preview it\n",
    "print(type(data), len(data))\n",
    "print(json.dumps(data[1], indent=2))\n"
   ]
  },
  {
   "cell_type": "markdown",
   "id": "4b913933",
   "metadata": {},
   "source": [
    "### 1. Connect to the Weaviate instance:"
   ]
  },
  {
   "cell_type": "code",
   "execution_count": 2,
   "id": "1a611f7e",
   "metadata": {},
   "outputs": [
    {
     "data": {
      "text/plain": [
       "True"
      ]
     },
     "execution_count": 2,
     "metadata": {},
     "output_type": "execute_result"
    }
   ],
   "source": [
    "import weaviate\n",
    "from weaviate import EmbeddedOptions\n",
    "import os\n",
    "\n",
    "client = weaviate.Client(\n",
    "    url = \"http://localhost:8080/\",  # Replace with your endpoint\n",
    "    additional_headers = {\n",
    "        \"X-OpenAI-Api-Key\": os.getenv(\"OPENAI_API_KEY\")# Replace with your inference API key\n",
    "    }\n",
    ")\n",
    "\n",
    "client.is_ready()"
   ]
  },
  {
   "cell_type": "markdown",
   "id": "52467c5b",
   "metadata": {},
   "source": [
    "Create the class:"
   ]
  },
  {
   "cell_type": "code",
   "execution_count": 3,
   "id": "cf7636d7",
   "metadata": {},
   "outputs": [],
   "source": [
    "if client.schema.exists(\"Question\"):\n",
    "    client.schema.delete_class(\"Question\")"
   ]
  },
  {
   "cell_type": "markdown",
   "id": "a77a2bc8",
   "metadata": {},
   "source": [
    "Create the Schema: (by default PQ will be `disabled`)"
   ]
  },
  {
   "cell_type": "code",
   "execution_count": 33,
   "id": "7d8bc098",
   "metadata": {},
   "outputs": [],
   "source": [
    "#Define the class that will be used to add the data\n",
    "# We need to have properties for the questions, answer and round\n",
    "\n",
    "class_definition = {\n",
    "    \n",
    "    \"class\": \"Question\",\n",
    "    \"vectorizer\":\"text2vec-openai\",\n",
    "    \"vectorIndexConfig\": {\n",
    "        \"distance\" : \"cosine\"\n",
    "    },\n",
    "    \n",
    "    'properties' : [\n",
    "        {\n",
    "            'name' : \"question\",\n",
    "            \"dataType\" : ['text']\n",
    "        },\n",
    "        {\n",
    "            'name' : \"answer\",\n",
    "            \"dataType\" : [\"text\"]\n",
    "        },\n",
    "        {\n",
    "            'name' : 'round',\n",
    "            'dataType': ['text']\n",
    "        }\n",
    "    ]\n",
    "}\n",
    "\n",
    "client.schema.create_class(class_definition)"
   ]
  },
  {
   "cell_type": "markdown",
   "id": "3de09ed6",
   "metadata": {},
   "source": [
    "### 2. Add data to the instance:"
   ]
  },
  {
   "cell_type": "code",
   "execution_count": 36,
   "id": "d0a2d2fc",
   "metadata": {},
   "outputs": [],
   "source": [
    "#Insert the data into Weaviate\n",
    "with client.batch() as batch:\n",
    "    for o in data:\n",
    "        obj_body = {\n",
    "            'question':o[\"Question\"],\n",
    "            'answer':o[\"Answer\"],\n",
    "            'round':o[\"Round\"]\n",
    "        }\n",
    "        \n",
    "        batch.add_data_object(\n",
    "        data_object=obj_body,\n",
    "        class_name=\"Question\"\n",
    "        )"
   ]
  },
  {
   "cell_type": "code",
   "execution_count": 37,
   "id": "57f315e5",
   "metadata": {},
   "outputs": [
    {
     "name": "stdout",
     "output_type": "stream",
     "text": [
      "{\n",
      "  \"data\": {\n",
      "    \"Aggregate\": {\n",
      "      \"Question\": [\n",
      "        {\n",
      "          \"meta\": {\n",
      "            \"count\": 1000\n",
      "          }\n",
      "        }\n",
      "      ]\n",
      "    }\n",
      "  }\n",
      "}\n"
     ]
    }
   ],
   "source": [
    "print(json.dumps(client.query.aggregate(\"Question\").with_meta_count().do(), indent=2))"
   ]
  },
  {
   "cell_type": "markdown",
   "id": "1cec8642",
   "metadata": {},
   "source": [
    "Perform a vector search:"
   ]
  },
  {
   "cell_type": "code",
   "execution_count": 38,
   "id": "2a9a8605",
   "metadata": {},
   "outputs": [
    {
     "name": "stdout",
     "output_type": "stream",
     "text": [
      "{\n",
      "  \"data\": {\n",
      "    \"Get\": {\n",
      "      \"Question\": [\n",
      "        {\n",
      "          \"_additional\": {\n",
      "            \"distance\": 0.20124269\n",
      "          },\n",
      "          \"answer\": \"tripe\",\n",
      "          \"question\": \"Popular in Pennsylvania, pepper pot is a peppery soup made from this stomach lining\"\n",
      "        },\n",
      "        {\n",
      "          \"_additional\": {\n",
      "            \"distance\": 0.20296884\n",
      "          },\n",
      "          \"answer\": \"Chiles Rellenos\",\n",
      "          \"question\": \"The name of this Mexican dish made with chiles & cheese translates to \\\"stuffed peppers\\\"\"\n",
      "        }\n",
      "      ]\n",
      "    }\n",
      "  }\n",
      "}\n"
     ]
    }
   ],
   "source": [
    "response = (client.query\n",
    "            .get(\"Question\", ['question','answer'])\n",
    "            .with_near_text({\"concepts\":\"spicy food recipes\"})\n",
    "            .with_additional(['distance'])\n",
    "            .with_limit(2)\n",
    "            .do()\n",
    ")\n",
    "\n",
    "print(json.dumps(response, indent=2))"
   ]
  },
  {
   "cell_type": "markdown",
   "id": "ad603373",
   "metadata": {},
   "source": [
    "### 3. Enable PQ by updating the Schema:"
   ]
  },
  {
   "cell_type": "code",
   "execution_count": 39,
   "id": "0866b3dc",
   "metadata": {},
   "outputs": [],
   "source": [
    "client.schema.update_config(\"Question\", {\n",
    "  \"vectorIndexConfig\": {\n",
    "    \"pq\": {\n",
    "      \"enabled\": True,         #We want to enable PQ \n",
    "      \"trainingLimit\": 100000, #If not set will default to upto the first 100k vectors added to Weaviate\n",
    "      \"segments\": 96 #how many segments to break/quantize the vector representation into - has to be an integer multiple of vector dimension\n",
    "    }\n",
    "  }\n",
    "})"
   ]
  },
  {
   "cell_type": "markdown",
   "id": "c98349ae",
   "metadata": {},
   "source": [
    "Your Weaviate instance will then enable compression and if you're monitoring the instance it will log the following:\n",
    "\n",
    "\n",
    "```bash\n",
    "product_quantization_compression-weaviate-1  | {\"action\":\"compress\",\"level\":\"info\",\"msg\":\"switching to compressed vectors\",\"time\":\"2023-11-13T21:10:52Z\"}\n",
    "\n",
    "product_quantization_compression-weaviate-1  | {\"action\":\"compress\",\"level\":\"info\",\"msg\":\"vector compression complete\",\"time\":\"2023-11-13T21:10:53Z\"}\n",
    "```"
   ]
  },
  {
   "cell_type": "markdown",
   "id": "5c0943f5",
   "metadata": {},
   "source": [
    "Re-run the same vector search now on PQ compressed vectors, (Rescoring is enabled by default)"
   ]
  },
  {
   "cell_type": "code",
   "execution_count": 40,
   "id": "d8899328",
   "metadata": {},
   "outputs": [
    {
     "name": "stdout",
     "output_type": "stream",
     "text": [
      "{\n",
      "  \"data\": {\n",
      "    \"Get\": {\n",
      "      \"Question\": [\n",
      "        {\n",
      "          \"_additional\": {\n",
      "            \"distance\": 0.20124269\n",
      "          },\n",
      "          \"answer\": \"tripe\",\n",
      "          \"question\": \"Popular in Pennsylvania, pepper pot is a peppery soup made from this stomach lining\"\n",
      "        },\n",
      "        {\n",
      "          \"_additional\": {\n",
      "            \"distance\": 0.20296884\n",
      "          },\n",
      "          \"answer\": \"Chiles Rellenos\",\n",
      "          \"question\": \"The name of this Mexican dish made with chiles & cheese translates to \\\"stuffed peppers\\\"\"\n",
      "        }\n",
      "      ]\n",
      "    }\n",
      "  }\n",
      "}\n"
     ]
    }
   ],
   "source": [
    "response = (client.query\n",
    "            .get(\"Question\", ['question','answer'])\n",
    "            .with_near_text({\"concepts\":\"spicy food recipes\"})\n",
    "            .with_additional(['distance'])\n",
    "            .with_limit(2)\n",
    "            .do()\n",
    ")\n",
    "\n",
    "print(json.dumps(response, indent=2))"
   ]
  }
 ],
 "metadata": {
  "kernelspec": {
   "display_name": "Python 3 (ipykernel)",
   "language": "python",
   "name": "python3"
  },
  "language_info": {
   "codemirror_mode": {
    "name": "ipython",
    "version": 3
   },
   "file_extension": ".py",
   "mimetype": "text/x-python",
   "name": "python",
   "nbconvert_exporter": "python",
   "pygments_lexer": "ipython3",
   "version": "3.10.13"
  }
 },
 "nbformat": 4,
 "nbformat_minor": 5
}
