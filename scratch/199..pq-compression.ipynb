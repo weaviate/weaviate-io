{
 "cells": [
  {
   "cell_type": "code",
   "execution_count": null,
   "metadata": {},
   "outputs": [],
   "source": [
    "# Install python client resources\n",
    "\n",
    "!pip3 install --pre -I \"weaviate-client==4.*\"\n"
   ]
  },
  {
   "cell_type": "code",
   "execution_count": 1,
   "metadata": {},
   "outputs": [
    {
     "name": "stdout",
     "output_type": "stream",
     "text": [
      "<class 'list'> 1000\n",
      "{\n",
      "  \"Air Date\": \"2005-11-18\",\n",
      "  \"Round\": \"Jeopardy!\",\n",
      "  \"Value\": 200,\n",
      "  \"Category\": \"RHYME TIME\",\n",
      "  \"Question\": \"Any pigment on the wall so faded you can barely see it\",\n",
      "  \"Answer\": \"faint paint\"\n",
      "}\n"
     ]
    }
   ],
   "source": [
    "# GET SAMPLE DATA\n",
    "\n",
    "import requests\n",
    "import json\n",
    "\n",
    "# Download the data\n",
    "resp = requests.get(\n",
    "    \"https://raw.githubusercontent.com/weaviate-tutorials/intro-workshop/main/data/jeopardy_1k.json\"\n",
    ")\n",
    "\n",
    "# Load the data so you can see what it is\n",
    "data = json.loads(resp.text)\n",
    "\n",
    "# Parse the JSON and preview it\n",
    "print(type(data), len(data))\n",
    "print(json.dumps(data[1], indent=2))"
   ]
  },
  {
   "cell_type": "code",
   "execution_count": 51,
   "metadata": {},
   "outputs": [
    {
     "name": "stdout",
     "output_type": "stream",
     "text": [
      "True\n"
     ]
    }
   ],
   "source": [
    "# OLD CLIENT\n",
    "# Connect\n",
    "\n",
    "import weaviate\n",
    "import os\n",
    "\n",
    "client = weaviate.Client(\n",
    "    url=\"http://localhost:8080/\",  # Replace with your endpoint\n",
    "    additional_headers={\n",
    "        \"X-OpenAI-Api-Key\": os.getenv(\n",
    "            \"OPENAI_API_KEY\"\n",
    "        )  # Replace with your OpenAI API key\n",
    "    },\n",
    ")\n",
    "\n",
    "print(client.is_ready())"
   ]
  },
  {
   "cell_type": "code",
   "execution_count": 3,
   "metadata": {},
   "outputs": [],
   "source": [
    "# CLEAR PRIOR\n",
    "\n",
    "if client.schema.exists(\"Question\"):\n",
    "    client.schema.delete_class(\"Question\")\n"
   ]
  },
  {
   "cell_type": "code",
   "execution_count": 4,
   "metadata": {},
   "outputs": [],
   "source": [
    "# CONFIGURE INITIAL\n",
    "\n",
    "class_definition = {\n",
    "    \n",
    "    \"class\": \"Question\",\n",
    "    \"vectorizer\":\"text2vec-openai\",\n",
    "    \"vectorIndexConfig\": {\n",
    "        \"distance\" : \"cosine\"\n",
    "    },\n",
    "    \n",
    "    'properties' : [\n",
    "        {\n",
    "            'name' : \"question\",\n",
    "            \"dataType\" : [ \"text\" ]\n",
    "        },\n",
    "        {\n",
    "            'name' : \"answer\",\n",
    "            \"dataType\" : [ \"text\" ]\n",
    "        },\n",
    "        {\n",
    "            'name' : 'round',\n",
    "            'dataType': [ \"text\" ]\n",
    "        }\n",
    "    ]\n",
    "}\n",
    "\n",
    "client.schema.create_class(class_definition)"
   ]
  },
  {
   "cell_type": "code",
   "execution_count": 5,
   "metadata": {},
   "outputs": [
    {
     "name": "stderr",
     "output_type": "stream",
     "text": [
      "/Users/davecuthbert/src/weaviate-io/.venv/lib/python3.10/site-packages/weaviate/warnings.py:131: DeprecationWarning: Dep006: You are using the `client.batch()` method, which will be removed in the next major release.\n",
      "            Please instead use the `client.batch.configure()` method to configure your batch and `client.batch` to enter the context manager.\n",
      "            See https://weaviate.io/developers/weaviate/client-libraries/python for details.\n",
      "  warnings.warn(\n"
     ]
    }
   ],
   "source": [
    "# LOAD TRAINING DATA\n",
    "\n",
    "\n",
    "with client.batch() as batch:\n",
    "    for o in data:\n",
    "        obj_body = {\n",
    "            'question':o[ \"Question\" ],\n",
    "            'answer':o[ \"Answer\" ],\n",
    "            'round':o[ \"Round\" ]\n",
    "        }\n",
    "        \n",
    "        batch.add_data_object(\n",
    "           data_object=obj_body,\n",
    "           class_name=\"Question\"\n",
    "        )"
   ]
  },
  {
   "cell_type": "code",
   "execution_count": 65,
   "metadata": {},
   "outputs": [
    {
     "name": "stdout",
     "output_type": "stream",
     "text": [
      "{\n",
      "  \"enabled\": true,\n",
      "  \"bitCompression\": false,\n",
      "  \"segments\": 96,\n",
      "  \"centroids\": 256,\n",
      "  \"trainingLimit\": 100000,\n",
      "  \"encoder\": {\n",
      "    \"type\": \"kmeans\",\n",
      "    \"distribution\": \"log-normal\"\n",
      "  }\n",
      "}\n"
     ]
    }
   ],
   "source": [
    "# CHECK CONFIG\n",
    "\n",
    "# print(json.dumps(client.schema.get(\"Question\"), indent=2))\n",
    "# print(client.schema.get())\n",
    "# print(json.dumps(client.schema.get(), indent=2))\n",
    "# print(json.dumps(client.schema.get(\"JeopardyCategory\"), indent=2))\n",
    "#type( client.schema.get())\n",
    "\n",
    "response = client.schema.get()\n",
    "# print(json.dumps(response, indent=2))\n",
    "\n",
    "class_names = [c[\"class\"] for c in response[\"classes\"]]\n",
    "\n",
    "print(json.dumps(client.schema.get(\"Question\")[\"vectorIndexConfig\"][\"pq\"], indent=2))\n",
    "\n"
   ]
  },
  {
   "cell_type": "code",
   "execution_count": 37,
   "metadata": {},
   "outputs": [],
   "source": [
    "\n",
    "client.schema.update_config(\n",
    "    \"Question\",\n",
    "    {\n",
    "        \"vectorIndexConfig\": {\n",
    "            \"pq\": {\n",
    "                \"enabled\": True,  # Enable PQ\n",
    "                \"trainingLimit\": 100000,\n",
    "                \"segments\": 96\n",
    "            }\n",
    "        }\n",
    "    },\n",
    ")"
   ]
  },
  {
   "cell_type": "code",
   "execution_count": null,
   "metadata": {},
   "outputs": [],
   "source": [
    "print(json.dumps(client.schema.get(), indent=2))"
   ]
  },
  {
   "cell_type": "code",
   "execution_count": null,
   "metadata": {},
   "outputs": [],
   "source": [
    "### NEW CLIENT\n",
    "### NEW CLIENT\n",
    "### NEW CLIENT\n",
    "### NEW CLIENT\n",
    "### NEW CLIENT\n",
    "### NEW CLIENT\n",
    "### NEW CLIENT\n",
    "### NEW CLIENT\n",
    "### NEW CLIENT\n",
    "### NEW CLIENT\n"
   ]
  },
  {
   "cell_type": "code",
   "execution_count": 42,
   "metadata": {},
   "outputs": [
    {
     "name": "stdout",
     "output_type": "stream",
     "text": [
      "<class 'list'> 1000\n",
      "{\n",
      "  \"Air Date\": \"2005-11-18\",\n",
      "  \"Round\": \"Jeopardy!\",\n",
      "  \"Value\": 200,\n",
      "  \"Category\": \"RHYME TIME\",\n",
      "  \"Question\": \"Any pigment on the wall so faded you can barely see it\",\n",
      "  \"Answer\": \"faint paint\"\n",
      "}\n"
     ]
    }
   ],
   "source": [
    "# GET SAMPLE DATA\n",
    "\n",
    "import requests\n",
    "import json\n",
    "\n",
    "# Download the data\n",
    "resp = requests.get(\n",
    "    \"https://raw.githubusercontent.com/weaviate-tutorials/intro-workshop/main/data/jeopardy_1k.json\"\n",
    ")\n",
    "\n",
    "# Load the data so you can see what it is\n",
    "data = json.loads(resp.text)\n",
    "\n",
    "# Parse the JSON and preview it\n",
    "print(type(data), len(data))\n",
    "print(json.dumps(data[1], indent=2))"
   ]
  },
  {
   "cell_type": "code",
   "execution_count": 43,
   "metadata": {},
   "outputs": [
    {
     "data": {
      "text/plain": [
       "True"
      ]
     },
     "execution_count": 43,
     "metadata": {},
     "output_type": "execute_result"
    }
   ],
   "source": [
    "# CONNECT\n",
    "\n",
    "import weaviate, os, json\n",
    "import weaviate.classes as wvc\n",
    "\n",
    "client = weaviate.connect_to_local(\n",
    "    headers={\n",
    "        \"X-OpenAI-Api-Key\": os.environ[\n",
    "            \"OPENAI_API_KEY\"\n",
    "        ]  # Replace with your OpenAI API key\n",
    "    }\n",
    ")\n",
    "\n",
    "client.is_ready()"
   ]
  },
  {
   "cell_type": "code",
   "execution_count": 45,
   "metadata": {},
   "outputs": [],
   "source": [
    "# CLEAR PRIOR\n",
    "\n",
    "if (client.collections.exists(\"JeopardyCategory\")):\n",
    "    client.collections.delete(\"JeopardyCategory\")\n"
   ]
  },
  {
   "cell_type": "code",
   "execution_count": 46,
   "metadata": {},
   "outputs": [
    {
     "data": {
      "text/plain": [
       "<weaviate.collections.collection.Collection at 0x127f7ce80>"
      ]
     },
     "execution_count": 46,
     "metadata": {},
     "output_type": "execute_result"
    }
   ],
   "source": [
    "# CONFIGURE SCHEMA\n",
    "\n",
    "client.collections.create(\n",
    "    name=\"JeopardyCategory\",\n",
    "    description=\"A Jeopardy! category\",\n",
    "    vectorizer_config=wvc.Configure.Vectorizer.text2vec_openai(),\n",
    "    generative_config=wvc.Configure.Generative.openai(),\n",
    "    properties=[\n",
    "        wvc.Property(name=\"title\", data_type=wvc.DataType.TEXT),\n",
    "    ],\n",
    ")"
   ]
  },
  {
   "cell_type": "code",
   "execution_count": 47,
   "metadata": {},
   "outputs": [
    {
     "name": "stdout",
     "output_type": "stream",
     "text": [
      "1000\n"
     ]
    }
   ],
   "source": [
    "# LOAD DATA\n",
    "\n",
    "def parse_data():\n",
    "    object_list = []\n",
    "    for obj in data:\n",
    "        object_list.append(\n",
    "            {\n",
    "                \"question\": obj[\"Question\"],\n",
    "                \"answer\": obj[\"Answer\"],\n",
    "                \"round\": obj[\"Round\"],\n",
    "            }\n",
    "        )\n",
    "\n",
    "    return object_list\n",
    "\n",
    "\n",
    "jeopardy = client.collections.get(\"JeopardyCategory\")\n",
    "jeopardy.data.insert_many(parse_data())\n",
    "\n",
    "# Check upload\n",
    "response = jeopardy.aggregate.over_all(total_count=True)\n",
    "\n",
    "# Should equal the number of objects uploaded\n",
    "print(response.total_count)\n"
   ]
  },
  {
   "cell_type": "code",
   "execution_count": 48,
   "metadata": {},
   "outputs": [],
   "source": [
    "# ENABLE AND TRAIN\n",
    "\n",
    "import weaviate.classes as wvc\n",
    "\n",
    "jeopardy = client.collections.get(\"JeopardyCategory\")\n",
    "jeopardy.config.update(\n",
    "    vector_index_config=wvc.Reconfigure.vector_index(\n",
    "        pq_enabled=True, pq_segments=96, pq_training_limit=100000\n",
    "    )\n",
    ")\n"
   ]
  },
  {
   "cell_type": "code",
   "execution_count": 49,
   "metadata": {},
   "outputs": [
    {
     "name": "stdout",
     "output_type": "stream",
     "text": [
      "Enabled: True\n",
      "Training: 100000\n",
      "Segments: 96\n",
      "Centroids: 256\n"
     ]
    }
   ],
   "source": [
    "# CHECK RESULTS\n",
    "\n",
    "jeopardy = client.collections.get(\"JeopardyCategory\")\n",
    "config = jeopardy.config.get()\n",
    "pq_config = config.vector_index_config.pq\n",
    "\n",
    "# print some of the config properties\n",
    "print(f\"Enabled: { pq_config.enabled }\")\n",
    "print(f\"Training: { pq_config.training_limit }\")\n",
    "print(f\"Segments: { pq_config.segments }\")\n",
    "print(f\"Centroids: { pq_config.centroids }\")"
   ]
  },
  {
   "cell_type": "code",
   "execution_count": null,
   "metadata": {},
   "outputs": [],
   "source": []
  }
 ],
 "metadata": {
  "kernelspec": {
   "display_name": ".venv",
   "language": "python",
   "name": "python3"
  },
  "language_info": {
   "codemirror_mode": {
    "name": "ipython",
    "version": 3
   },
   "file_extension": ".py",
   "mimetype": "text/x-python",
   "name": "python",
   "nbconvert_exporter": "python",
   "pygments_lexer": "ipython3",
   "version": "3.10.13"
  }
 },
 "nbformat": 4,
 "nbformat_minor": 2
}
