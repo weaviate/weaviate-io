{
 "cells": [
  {
   "cell_type": "code",
   "execution_count": 1,
   "metadata": {},
   "outputs": [
    {
     "name": "stdout",
     "output_type": "stream",
     "text": [
      "het\n"
     ]
    }
   ],
   "source": [
    "print(\"het\")"
   ]
  },
  {
   "cell_type": "code",
   "execution_count": 2,
   "metadata": {},
   "outputs": [
    {
     "data": {
      "text/plain": [
       "True"
      ]
     },
     "execution_count": 2,
     "metadata": {},
     "output_type": "execute_result"
    }
   ],
   "source": [
    "# CONNECT\n",
    "\n",
    "import weaviate, os, json\n",
    "import weaviate.classes as wvc\n",
    "\n",
    "client = weaviate.connect_to_local(\n",
    "    port=8080,\n",
    "    headers={\n",
    "        \"X-OpenAI-Api-Key\": os.environ[\n",
    "            \"OPENAI_API_KEY\"\n",
    "        ]  # Replace with your OpenAI API key\n",
    "    }\n",
    ")\n",
    "\n",
    "client.is_ready()"
   ]
  },
  {
   "cell_type": "code",
   "execution_count": 7,
   "metadata": {},
   "outputs": [
    {
     "name": "stdout",
     "output_type": "stream",
     "text": [
      "{\n",
      "  \"answer\": \"Sampan\",\n",
      "  \"question\": \"Smaller than a junk, this Oriental boat usually has a cabin with a roof made of mats\"\n",
      "}\n",
      "{\n",
      "  \"answer\": \"the bicycle\",\n",
      "  \"question\": \"The Michauxes added pedals to the front wheel of a velocipede & became the \\\"fathers of\\\" this vehicle\"\n",
      "}\n",
      "{\n",
      "  \"answer\": \"hot air balloons\",\n",
      "  \"question\": \"During the Cold War, 2 different families escaped over the Berlin Wall using these lighter-than-air vehicles\"\n",
      "}\n"
     ]
    }
   ],
   "source": [
    "from weaviate.classes import Filter\n",
    "\n",
    "jeopardy = client.collections.get(\"JeopardyQuestion\")\n",
    "response = jeopardy.query.fetch_objects(\n",
    "    return_properties=[\"question\", \"answer\"],\n",
    "    filters=Filter([\"hasCategory\", \"JeopardyCategory\", \"title\"]).like(\"*Sport*\"),\n",
    "    limit=3\n",
    ")\n",
    "\n",
    "# print result objects \n",
    "for o in response.objects:\n",
    "    print(json.dumps(o.properties, indent=2))"
   ]
  },
  {
   "cell_type": "code",
   "execution_count": 5,
   "metadata": {},
   "outputs": [
    {
     "data": {
      "text/plain": [
       "'4.4b0'"
      ]
     },
     "execution_count": 5,
     "metadata": {},
     "output_type": "execute_result"
    }
   ],
   "source": [
    "weaviate.__version__\n"
   ]
  },
  {
   "cell_type": "code",
   "execution_count": null,
   "metadata": {},
   "outputs": [],
   "source": []
  }
 ],
 "metadata": {
  "kernelspec": {
   "display_name": ".venv",
   "language": "python",
   "name": "python3"
  },
  "language_info": {
   "codemirror_mode": {
    "name": "ipython",
    "version": 3
   },
   "file_extension": ".py",
   "mimetype": "text/x-python",
   "name": "python",
   "nbconvert_exporter": "python",
   "pygments_lexer": "ipython3",
   "version": "3.10.13"
  }
 },
 "nbformat": 4,
 "nbformat_minor": 2
}
